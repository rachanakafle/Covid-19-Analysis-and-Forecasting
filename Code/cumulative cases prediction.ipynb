{
 "cells": [
  {
   "cell_type": "code",
   "execution_count": 1,
   "id": "a8ed75b0",
   "metadata": {},
   "outputs": [],
   "source": [
    "# import necessary libraries \n",
    "import pandas as pd\n",
    "import numpy as np\n",
    "import matplotlib.pyplot as plt\n",
    "from prophet import Prophet\n",
    "from prophet.plot import plot_plotly, plot_components_plotly\n",
    "from sklearn.metrics import mean_squared_error, mean_absolute_error\n",
    "from sklearn.metrics import r2_score\n",
    "from prophet.diagnostics import cross_validation\n"
   ]
  },
  {
   "cell_type": "code",
   "execution_count": 2,
   "id": "3580c99f",
   "metadata": {},
   "outputs": [
    {
     "data": {
      "text/html": [
       "<div>\n",
       "<style scoped>\n",
       "    .dataframe tbody tr th:only-of-type {\n",
       "        vertical-align: middle;\n",
       "    }\n",
       "\n",
       "    .dataframe tbody tr th {\n",
       "        vertical-align: top;\n",
       "    }\n",
       "\n",
       "    .dataframe thead th {\n",
       "        text-align: right;\n",
       "    }\n",
       "</style>\n",
       "<table border=\"1\" class=\"dataframe\">\n",
       "  <thead>\n",
       "    <tr style=\"text-align: right;\">\n",
       "      <th></th>\n",
       "      <th>Date_reported</th>\n",
       "      <th>Country_code</th>\n",
       "      <th>Country</th>\n",
       "      <th>WHO_region</th>\n",
       "      <th>New_cases</th>\n",
       "      <th>Cumulative_cases</th>\n",
       "    </tr>\n",
       "  </thead>\n",
       "  <tbody>\n",
       "    <tr>\n",
       "      <th>0</th>\n",
       "      <td>1/3/2020</td>\n",
       "      <td>DE</td>\n",
       "      <td>Germany</td>\n",
       "      <td>EURO</td>\n",
       "      <td>0</td>\n",
       "      <td>0</td>\n",
       "    </tr>\n",
       "    <tr>\n",
       "      <th>1</th>\n",
       "      <td>1/4/2020</td>\n",
       "      <td>DE</td>\n",
       "      <td>Germany</td>\n",
       "      <td>EURO</td>\n",
       "      <td>1</td>\n",
       "      <td>1</td>\n",
       "    </tr>\n",
       "    <tr>\n",
       "      <th>2</th>\n",
       "      <td>1/5/2020</td>\n",
       "      <td>DE</td>\n",
       "      <td>Germany</td>\n",
       "      <td>EURO</td>\n",
       "      <td>0</td>\n",
       "      <td>1</td>\n",
       "    </tr>\n",
       "    <tr>\n",
       "      <th>3</th>\n",
       "      <td>1/6/2020</td>\n",
       "      <td>DE</td>\n",
       "      <td>Germany</td>\n",
       "      <td>EURO</td>\n",
       "      <td>0</td>\n",
       "      <td>1</td>\n",
       "    </tr>\n",
       "    <tr>\n",
       "      <th>4</th>\n",
       "      <td>1/7/2020</td>\n",
       "      <td>DE</td>\n",
       "      <td>Germany</td>\n",
       "      <td>EURO</td>\n",
       "      <td>0</td>\n",
       "      <td>1</td>\n",
       "    </tr>\n",
       "  </tbody>\n",
       "</table>\n",
       "</div>"
      ],
      "text/plain": [
       "  Date_reported Country_code  Country WHO_region  New_cases  Cumulative_cases\n",
       "0      1/3/2020           DE  Germany       EURO          0                 0\n",
       "1      1/4/2020           DE  Germany       EURO          1                 1\n",
       "2      1/5/2020           DE  Germany       EURO          0                 1\n",
       "3      1/6/2020           DE  Germany       EURO          0                 1\n",
       "4      1/7/2020           DE  Germany       EURO          0                 1"
      ]
     },
     "execution_count": 2,
     "metadata": {},
     "output_type": "execute_result"
    }
   ],
   "source": [
    "# read csv file\n",
    "df = pd.read_csv('../Dataset/WHO-COVID-19-germany-usa-india-data.csv')\n",
    "df.head()"
   ]
  },
  {
   "cell_type": "markdown",
   "id": "0ab7d014",
   "metadata": {},
   "source": [
    "# Data Processing"
   ]
  },
  {
   "cell_type": "code",
   "execution_count": 3,
   "id": "975d72d4",
   "metadata": {},
   "outputs": [
    {
     "name": "stdout",
     "output_type": "stream",
     "text": [
      "Date_reported       0\n",
      "Country_code        0\n",
      "Country             0\n",
      "WHO_region          0\n",
      "New_cases           0\n",
      "Cumulative_cases    0\n",
      "dtype: int64\n"
     ]
    }
   ],
   "source": [
    "#  count NAN values\n",
    "count_nan = df.isna().sum()\n",
    "print(count_nan)"
   ]
  },
  {
   "cell_type": "code",
   "execution_count": 4,
   "id": "9b724e66",
   "metadata": {},
   "outputs": [
    {
     "name": "stdout",
     "output_type": "stream",
     "text": [
      "False\n",
      "Empty DataFrame\n",
      "Columns: [Date_reported, Country_code, Country, WHO_region, New_cases, Cumulative_cases]\n",
      "Index: []\n"
     ]
    }
   ],
   "source": [
    "# calculate duplicates\n",
    "dups = df.duplicated()\n",
    "# report if there any duplicates\n",
    "print(dups.any())\n",
    "# list all duplicate rows\n",
    "print(df[dups])"
   ]
  },
  {
   "cell_type": "code",
   "execution_count": 5,
   "id": "4abc69ce",
   "metadata": {},
   "outputs": [
    {
     "data": {
      "text/plain": [
       "Date_reported       object\n",
       "Country_code        object\n",
       "Country             object\n",
       "WHO_region          object\n",
       "New_cases            int64\n",
       "Cumulative_cases     int64\n",
       "dtype: object"
      ]
     },
     "execution_count": 5,
     "metadata": {},
     "output_type": "execute_result"
    }
   ],
   "source": [
    "#check data types\n",
    "df.dtypes"
   ]
  },
  {
   "cell_type": "code",
   "execution_count": 6,
   "id": "619eb719",
   "metadata": {},
   "outputs": [],
   "source": [
    "# change timestamp data types string to datetime\n",
    "df['Date_reported'] = pd. to_datetime(df['Date_reported'], format = '%m/%d/%Y')"
   ]
  },
  {
   "cell_type": "code",
   "execution_count": 7,
   "id": "86a2baa8",
   "metadata": {},
   "outputs": [
    {
     "data": {
      "text/plain": [
       "Date_reported       datetime64[ns]\n",
       "Country_code                object\n",
       "Country                     object\n",
       "WHO_region                  object\n",
       "New_cases                    int64\n",
       "Cumulative_cases             int64\n",
       "dtype: object"
      ]
     },
     "execution_count": 7,
     "metadata": {},
     "output_type": "execute_result"
    }
   ],
   "source": [
    "df.dtypes"
   ]
  },
  {
   "cell_type": "code",
   "execution_count": 8,
   "id": "ed82e449",
   "metadata": {},
   "outputs": [
    {
     "name": "stdout",
     "output_type": "stream",
     "text": [
      "['Germany' 'India' 'United States of America']\n"
     ]
    }
   ],
   "source": [
    "# Get the unique values of the 'Country' column\n",
    "countries = df['Country'].unique()\n",
    "print(countries)"
   ]
  },
  {
   "cell_type": "code",
   "execution_count": 9,
   "id": "458b4ac3",
   "metadata": {},
   "outputs": [
    {
     "data": {
      "text/html": [
       "<div>\n",
       "<style scoped>\n",
       "    .dataframe tbody tr th:only-of-type {\n",
       "        vertical-align: middle;\n",
       "    }\n",
       "\n",
       "    .dataframe tbody tr th {\n",
       "        vertical-align: top;\n",
       "    }\n",
       "\n",
       "    .dataframe thead th {\n",
       "        text-align: right;\n",
       "    }\n",
       "</style>\n",
       "<table border=\"1\" class=\"dataframe\">\n",
       "  <thead>\n",
       "    <tr style=\"text-align: right;\">\n",
       "      <th></th>\n",
       "      <th>Date_reported</th>\n",
       "      <th>Country_code</th>\n",
       "      <th>Country</th>\n",
       "      <th>WHO_region</th>\n",
       "      <th>New_cases</th>\n",
       "      <th>Cumulative_cases</th>\n",
       "    </tr>\n",
       "  </thead>\n",
       "  <tbody>\n",
       "    <tr>\n",
       "      <th>0</th>\n",
       "      <td>2020-01-03</td>\n",
       "      <td>DE</td>\n",
       "      <td>Germany</td>\n",
       "      <td>EURO</td>\n",
       "      <td>0</td>\n",
       "      <td>0</td>\n",
       "    </tr>\n",
       "    <tr>\n",
       "      <th>1</th>\n",
       "      <td>2020-01-04</td>\n",
       "      <td>DE</td>\n",
       "      <td>Germany</td>\n",
       "      <td>EURO</td>\n",
       "      <td>1</td>\n",
       "      <td>1</td>\n",
       "    </tr>\n",
       "    <tr>\n",
       "      <th>2</th>\n",
       "      <td>2020-01-05</td>\n",
       "      <td>DE</td>\n",
       "      <td>Germany</td>\n",
       "      <td>EURO</td>\n",
       "      <td>0</td>\n",
       "      <td>1</td>\n",
       "    </tr>\n",
       "    <tr>\n",
       "      <th>3</th>\n",
       "      <td>2020-01-06</td>\n",
       "      <td>DE</td>\n",
       "      <td>Germany</td>\n",
       "      <td>EURO</td>\n",
       "      <td>0</td>\n",
       "      <td>1</td>\n",
       "    </tr>\n",
       "    <tr>\n",
       "      <th>4</th>\n",
       "      <td>2020-01-07</td>\n",
       "      <td>DE</td>\n",
       "      <td>Germany</td>\n",
       "      <td>EURO</td>\n",
       "      <td>0</td>\n",
       "      <td>1</td>\n",
       "    </tr>\n",
       "  </tbody>\n",
       "</table>\n",
       "</div>"
      ],
      "text/plain": [
       "  Date_reported Country_code  Country WHO_region  New_cases  Cumulative_cases\n",
       "0    2020-01-03           DE  Germany       EURO          0                 0\n",
       "1    2020-01-04           DE  Germany       EURO          1                 1\n",
       "2    2020-01-05           DE  Germany       EURO          0                 1\n",
       "3    2020-01-06           DE  Germany       EURO          0                 1\n",
       "4    2020-01-07           DE  Germany       EURO          0                 1"
      ]
     },
     "execution_count": 9,
     "metadata": {},
     "output_type": "execute_result"
    }
   ],
   "source": [
    "# Filter the dataframe to only include rows where the 'Country' column is 'Germany'\n",
    "df_germany = df[df['Country'] == 'Germany']\n",
    "df_germany.head()"
   ]
  },
  {
   "cell_type": "code",
   "execution_count": 10,
   "id": "494bed5f",
   "metadata": {},
   "outputs": [
    {
     "data": {
      "text/html": [
       "<div>\n",
       "<style scoped>\n",
       "    .dataframe tbody tr th:only-of-type {\n",
       "        vertical-align: middle;\n",
       "    }\n",
       "\n",
       "    .dataframe tbody tr th {\n",
       "        vertical-align: top;\n",
       "    }\n",
       "\n",
       "    .dataframe thead th {\n",
       "        text-align: right;\n",
       "    }\n",
       "</style>\n",
       "<table border=\"1\" class=\"dataframe\">\n",
       "  <thead>\n",
       "    <tr style=\"text-align: right;\">\n",
       "      <th></th>\n",
       "      <th>Date_reported</th>\n",
       "      <th>Country_code</th>\n",
       "      <th>Country</th>\n",
       "      <th>WHO_region</th>\n",
       "      <th>New_cases</th>\n",
       "      <th>Cumulative_cases</th>\n",
       "    </tr>\n",
       "  </thead>\n",
       "  <tbody>\n",
       "    <tr>\n",
       "      <th>1063</th>\n",
       "      <td>2020-01-03</td>\n",
       "      <td>IN</td>\n",
       "      <td>India</td>\n",
       "      <td>SEARO</td>\n",
       "      <td>0</td>\n",
       "      <td>0</td>\n",
       "    </tr>\n",
       "    <tr>\n",
       "      <th>1064</th>\n",
       "      <td>2020-01-04</td>\n",
       "      <td>IN</td>\n",
       "      <td>India</td>\n",
       "      <td>SEARO</td>\n",
       "      <td>0</td>\n",
       "      <td>0</td>\n",
       "    </tr>\n",
       "    <tr>\n",
       "      <th>1065</th>\n",
       "      <td>2020-01-05</td>\n",
       "      <td>IN</td>\n",
       "      <td>India</td>\n",
       "      <td>SEARO</td>\n",
       "      <td>0</td>\n",
       "      <td>0</td>\n",
       "    </tr>\n",
       "    <tr>\n",
       "      <th>1066</th>\n",
       "      <td>2020-01-06</td>\n",
       "      <td>IN</td>\n",
       "      <td>India</td>\n",
       "      <td>SEARO</td>\n",
       "      <td>0</td>\n",
       "      <td>0</td>\n",
       "    </tr>\n",
       "    <tr>\n",
       "      <th>1067</th>\n",
       "      <td>2020-01-07</td>\n",
       "      <td>IN</td>\n",
       "      <td>India</td>\n",
       "      <td>SEARO</td>\n",
       "      <td>0</td>\n",
       "      <td>0</td>\n",
       "    </tr>\n",
       "  </tbody>\n",
       "</table>\n",
       "</div>"
      ],
      "text/plain": [
       "     Date_reported Country_code Country WHO_region  New_cases  \\\n",
       "1063    2020-01-03           IN   India      SEARO          0   \n",
       "1064    2020-01-04           IN   India      SEARO          0   \n",
       "1065    2020-01-05           IN   India      SEARO          0   \n",
       "1066    2020-01-06           IN   India      SEARO          0   \n",
       "1067    2020-01-07           IN   India      SEARO          0   \n",
       "\n",
       "      Cumulative_cases  \n",
       "1063                 0  \n",
       "1064                 0  \n",
       "1065                 0  \n",
       "1066                 0  \n",
       "1067                 0  "
      ]
     },
     "execution_count": 10,
     "metadata": {},
     "output_type": "execute_result"
    }
   ],
   "source": [
    "# Filter the dataframe to only include rows where the 'Country' column is 'India'\n",
    "df_india = df[df['Country']== 'India']\n",
    "df_india.head()"
   ]
  },
  {
   "cell_type": "code",
   "execution_count": 11,
   "id": "8b9adf50",
   "metadata": {},
   "outputs": [
    {
     "data": {
      "text/html": [
       "<div>\n",
       "<style scoped>\n",
       "    .dataframe tbody tr th:only-of-type {\n",
       "        vertical-align: middle;\n",
       "    }\n",
       "\n",
       "    .dataframe tbody tr th {\n",
       "        vertical-align: top;\n",
       "    }\n",
       "\n",
       "    .dataframe thead th {\n",
       "        text-align: right;\n",
       "    }\n",
       "</style>\n",
       "<table border=\"1\" class=\"dataframe\">\n",
       "  <thead>\n",
       "    <tr style=\"text-align: right;\">\n",
       "      <th></th>\n",
       "      <th>Date_reported</th>\n",
       "      <th>Country_code</th>\n",
       "      <th>Country</th>\n",
       "      <th>WHO_region</th>\n",
       "      <th>New_cases</th>\n",
       "      <th>Cumulative_cases</th>\n",
       "    </tr>\n",
       "  </thead>\n",
       "  <tbody>\n",
       "    <tr>\n",
       "      <th>2126</th>\n",
       "      <td>2020-01-03</td>\n",
       "      <td>US</td>\n",
       "      <td>United States of America</td>\n",
       "      <td>AMRO</td>\n",
       "      <td>0</td>\n",
       "      <td>0</td>\n",
       "    </tr>\n",
       "    <tr>\n",
       "      <th>2127</th>\n",
       "      <td>2020-01-04</td>\n",
       "      <td>US</td>\n",
       "      <td>United States of America</td>\n",
       "      <td>AMRO</td>\n",
       "      <td>0</td>\n",
       "      <td>0</td>\n",
       "    </tr>\n",
       "    <tr>\n",
       "      <th>2128</th>\n",
       "      <td>2020-01-05</td>\n",
       "      <td>US</td>\n",
       "      <td>United States of America</td>\n",
       "      <td>AMRO</td>\n",
       "      <td>0</td>\n",
       "      <td>0</td>\n",
       "    </tr>\n",
       "    <tr>\n",
       "      <th>2129</th>\n",
       "      <td>2020-01-06</td>\n",
       "      <td>US</td>\n",
       "      <td>United States of America</td>\n",
       "      <td>AMRO</td>\n",
       "      <td>0</td>\n",
       "      <td>0</td>\n",
       "    </tr>\n",
       "    <tr>\n",
       "      <th>2130</th>\n",
       "      <td>2020-01-07</td>\n",
       "      <td>US</td>\n",
       "      <td>United States of America</td>\n",
       "      <td>AMRO</td>\n",
       "      <td>0</td>\n",
       "      <td>0</td>\n",
       "    </tr>\n",
       "  </tbody>\n",
       "</table>\n",
       "</div>"
      ],
      "text/plain": [
       "     Date_reported Country_code                   Country WHO_region  \\\n",
       "2126    2020-01-03           US  United States of America       AMRO   \n",
       "2127    2020-01-04           US  United States of America       AMRO   \n",
       "2128    2020-01-05           US  United States of America       AMRO   \n",
       "2129    2020-01-06           US  United States of America       AMRO   \n",
       "2130    2020-01-07           US  United States of America       AMRO   \n",
       "\n",
       "      New_cases  Cumulative_cases  \n",
       "2126          0                 0  \n",
       "2127          0                 0  \n",
       "2128          0                 0  \n",
       "2129          0                 0  \n",
       "2130          0                 0  "
      ]
     },
     "execution_count": 11,
     "metadata": {},
     "output_type": "execute_result"
    }
   ],
   "source": [
    "# Filter the dataframe to only include rows where the 'Country' column is 'United States of America'\n",
    "df_usa = df[df['Country']== 'United States of America']\n",
    "df_usa.head()"
   ]
  },
  {
   "cell_type": "markdown",
   "id": "1667744c",
   "metadata": {},
   "source": [
    "# Data Analysis and Visualization"
   ]
  },
  {
   "cell_type": "code",
   "execution_count": 12,
   "id": "07ba3ee7",
   "metadata": {},
   "outputs": [
    {
     "name": "stdout",
     "output_type": "stream",
     "text": [
      "<class 'pandas.core.frame.DataFrame'>\n",
      "Int64Index: 1063 entries, 0 to 1062\n",
      "Data columns (total 6 columns):\n",
      " #   Column            Non-Null Count  Dtype         \n",
      "---  ------            --------------  -----         \n",
      " 0   Date_reported     1063 non-null   datetime64[ns]\n",
      " 1   Country_code      1063 non-null   object        \n",
      " 2   Country           1063 non-null   object        \n",
      " 3   WHO_region        1063 non-null   object        \n",
      " 4   New_cases         1063 non-null   int64         \n",
      " 5   Cumulative_cases  1063 non-null   int64         \n",
      "dtypes: datetime64[ns](1), int64(2), object(3)\n",
      "memory usage: 58.1+ KB\n"
     ]
    }
   ],
   "source": [
    "# Get information about the df_germany,including the number of rows and columns, data types, and memory usage\n",
    "df_germany.info()"
   ]
  },
  {
   "cell_type": "code",
   "execution_count": 13,
   "id": "83346cd7",
   "metadata": {},
   "outputs": [
    {
     "name": "stdout",
     "output_type": "stream",
     "text": [
      "<class 'pandas.core.frame.DataFrame'>\n",
      "Int64Index: 1063 entries, 1063 to 2125\n",
      "Data columns (total 6 columns):\n",
      " #   Column            Non-Null Count  Dtype         \n",
      "---  ------            --------------  -----         \n",
      " 0   Date_reported     1063 non-null   datetime64[ns]\n",
      " 1   Country_code      1063 non-null   object        \n",
      " 2   Country           1063 non-null   object        \n",
      " 3   WHO_region        1063 non-null   object        \n",
      " 4   New_cases         1063 non-null   int64         \n",
      " 5   Cumulative_cases  1063 non-null   int64         \n",
      "dtypes: datetime64[ns](1), int64(2), object(3)\n",
      "memory usage: 58.1+ KB\n"
     ]
    }
   ],
   "source": [
    "# Get information about the df_ndia, including the number of rows and columns, data types, and memory usage\n",
    "df_india.info()"
   ]
  },
  {
   "cell_type": "code",
   "execution_count": 14,
   "id": "28f003fa",
   "metadata": {},
   "outputs": [
    {
     "name": "stdout",
     "output_type": "stream",
     "text": [
      "<class 'pandas.core.frame.DataFrame'>\n",
      "Int64Index: 1063 entries, 2126 to 3188\n",
      "Data columns (total 6 columns):\n",
      " #   Column            Non-Null Count  Dtype         \n",
      "---  ------            --------------  -----         \n",
      " 0   Date_reported     1063 non-null   datetime64[ns]\n",
      " 1   Country_code      1063 non-null   object        \n",
      " 2   Country           1063 non-null   object        \n",
      " 3   WHO_region        1063 non-null   object        \n",
      " 4   New_cases         1063 non-null   int64         \n",
      " 5   Cumulative_cases  1063 non-null   int64         \n",
      "dtypes: datetime64[ns](1), int64(2), object(3)\n",
      "memory usage: 58.1+ KB\n"
     ]
    }
   ],
   "source": [
    "# Get information about the df_usa, including the number of rows and columns, data types, and memory usage\n",
    "df_usa.info()"
   ]
  },
  {
   "cell_type": "code",
   "execution_count": 15,
   "id": "d115cdee",
   "metadata": {},
   "outputs": [],
   "source": [
    "# Plot the 'Cumulative_cases' column against the 'Date_reported' column for the df_germany\n",
    "# fig,ax = plt.subplots(figsize = (8,5))\n",
    "# df_germany.plot('Date_reported','Cumulative_cases', ax= ax)\n",
    "# ax.set(title = \"Cumulative cases over time in Germany\")"
   ]
  },
  {
   "cell_type": "code",
   "execution_count": 16,
   "id": "804c5be8",
   "metadata": {},
   "outputs": [],
   "source": [
    "# Plot the 'Cumulative_cases' column against the 'Date_reported' column for the df_india\n",
    "# fig,ax = plt.subplots(figsize = (8,5))\n",
    "# df_india.plot('Date_reported','Cumulative_cases', ax= ax)\n",
    "# ax.set(title = \"Cumulative cases over time in India\")"
   ]
  },
  {
   "cell_type": "code",
   "execution_count": 17,
   "id": "a5440f17",
   "metadata": {},
   "outputs": [],
   "source": [
    "# Plot the 'Cumulative_cases' column against the 'Date_reported' column for the df_usa\n",
    "# fig,ax = plt.subplots(figsize = (8,5))\n",
    "# df_usa.plot('Date_reported','Cumulative_cases', ax= ax)\n",
    "# ax.set(title = \"Cumulative cases over time in USA\")"
   ]
  },
  {
   "cell_type": "markdown",
   "id": "8e986e9f",
   "metadata": {},
   "source": [
    "## Cumulative cases prediction in Germany"
   ]
  },
  {
   "cell_type": "code",
   "execution_count": 18,
   "id": "edb2fe30",
   "metadata": {},
   "outputs": [
    {
     "data": {
      "text/html": [
       "<div>\n",
       "<style scoped>\n",
       "    .dataframe tbody tr th:only-of-type {\n",
       "        vertical-align: middle;\n",
       "    }\n",
       "\n",
       "    .dataframe tbody tr th {\n",
       "        vertical-align: top;\n",
       "    }\n",
       "\n",
       "    .dataframe thead th {\n",
       "        text-align: right;\n",
       "    }\n",
       "</style>\n",
       "<table border=\"1\" class=\"dataframe\">\n",
       "  <thead>\n",
       "    <tr style=\"text-align: right;\">\n",
       "      <th></th>\n",
       "      <th>Date_reported</th>\n",
       "      <th>Country_code</th>\n",
       "      <th>Country</th>\n",
       "      <th>WHO_region</th>\n",
       "      <th>New_cases</th>\n",
       "      <th>Cumulative_cases</th>\n",
       "    </tr>\n",
       "  </thead>\n",
       "  <tbody>\n",
       "    <tr>\n",
       "      <th>0</th>\n",
       "      <td>2020-01-03</td>\n",
       "      <td>DE</td>\n",
       "      <td>Germany</td>\n",
       "      <td>EURO</td>\n",
       "      <td>0</td>\n",
       "      <td>0</td>\n",
       "    </tr>\n",
       "    <tr>\n",
       "      <th>1</th>\n",
       "      <td>2020-01-04</td>\n",
       "      <td>DE</td>\n",
       "      <td>Germany</td>\n",
       "      <td>EURO</td>\n",
       "      <td>1</td>\n",
       "      <td>1</td>\n",
       "    </tr>\n",
       "    <tr>\n",
       "      <th>2</th>\n",
       "      <td>2020-01-05</td>\n",
       "      <td>DE</td>\n",
       "      <td>Germany</td>\n",
       "      <td>EURO</td>\n",
       "      <td>0</td>\n",
       "      <td>1</td>\n",
       "    </tr>\n",
       "    <tr>\n",
       "      <th>3</th>\n",
       "      <td>2020-01-06</td>\n",
       "      <td>DE</td>\n",
       "      <td>Germany</td>\n",
       "      <td>EURO</td>\n",
       "      <td>0</td>\n",
       "      <td>1</td>\n",
       "    </tr>\n",
       "    <tr>\n",
       "      <th>4</th>\n",
       "      <td>2020-01-07</td>\n",
       "      <td>DE</td>\n",
       "      <td>Germany</td>\n",
       "      <td>EURO</td>\n",
       "      <td>0</td>\n",
       "      <td>1</td>\n",
       "    </tr>\n",
       "    <tr>\n",
       "      <th>...</th>\n",
       "      <td>...</td>\n",
       "      <td>...</td>\n",
       "      <td>...</td>\n",
       "      <td>...</td>\n",
       "      <td>...</td>\n",
       "      <td>...</td>\n",
       "    </tr>\n",
       "    <tr>\n",
       "      <th>1058</th>\n",
       "      <td>2022-11-26</td>\n",
       "      <td>DE</td>\n",
       "      <td>Germany</td>\n",
       "      <td>EURO</td>\n",
       "      <td>25820</td>\n",
       "      <td>36384382</td>\n",
       "    </tr>\n",
       "    <tr>\n",
       "      <th>1059</th>\n",
       "      <td>2022-11-27</td>\n",
       "      <td>DE</td>\n",
       "      <td>Germany</td>\n",
       "      <td>EURO</td>\n",
       "      <td>6237</td>\n",
       "      <td>36390619</td>\n",
       "    </tr>\n",
       "    <tr>\n",
       "      <th>1060</th>\n",
       "      <td>2022-11-28</td>\n",
       "      <td>DE</td>\n",
       "      <td>Germany</td>\n",
       "      <td>EURO</td>\n",
       "      <td>3494</td>\n",
       "      <td>36394113</td>\n",
       "    </tr>\n",
       "    <tr>\n",
       "      <th>1061</th>\n",
       "      <td>2022-11-29</td>\n",
       "      <td>DE</td>\n",
       "      <td>Germany</td>\n",
       "      <td>EURO</td>\n",
       "      <td>37671</td>\n",
       "      <td>36431784</td>\n",
       "    </tr>\n",
       "    <tr>\n",
       "      <th>1062</th>\n",
       "      <td>2022-11-30</td>\n",
       "      <td>DE</td>\n",
       "      <td>Germany</td>\n",
       "      <td>EURO</td>\n",
       "      <td>31701</td>\n",
       "      <td>36463485</td>\n",
       "    </tr>\n",
       "  </tbody>\n",
       "</table>\n",
       "<p>1063 rows × 6 columns</p>\n",
       "</div>"
      ],
      "text/plain": [
       "     Date_reported Country_code  Country WHO_region  New_cases  \\\n",
       "0       2020-01-03           DE  Germany       EURO          0   \n",
       "1       2020-01-04           DE  Germany       EURO          1   \n",
       "2       2020-01-05           DE  Germany       EURO          0   \n",
       "3       2020-01-06           DE  Germany       EURO          0   \n",
       "4       2020-01-07           DE  Germany       EURO          0   \n",
       "...            ...          ...      ...        ...        ...   \n",
       "1058    2022-11-26           DE  Germany       EURO      25820   \n",
       "1059    2022-11-27           DE  Germany       EURO       6237   \n",
       "1060    2022-11-28           DE  Germany       EURO       3494   \n",
       "1061    2022-11-29           DE  Germany       EURO      37671   \n",
       "1062    2022-11-30           DE  Germany       EURO      31701   \n",
       "\n",
       "      Cumulative_cases  \n",
       "0                    0  \n",
       "1                    1  \n",
       "2                    1  \n",
       "3                    1  \n",
       "4                    1  \n",
       "...                ...  \n",
       "1058          36384382  \n",
       "1059          36390619  \n",
       "1060          36394113  \n",
       "1061          36431784  \n",
       "1062          36463485  \n",
       "\n",
       "[1063 rows x 6 columns]"
      ]
     },
     "execution_count": 18,
     "metadata": {},
     "output_type": "execute_result"
    }
   ],
   "source": [
    "# print the dataframe\n",
    "df_germany"
   ]
  },
  {
   "cell_type": "code",
   "execution_count": 19,
   "id": "e5d571c5",
   "metadata": {},
   "outputs": [],
   "source": [
    "# Split the data into train and test sets\n",
    "train_data = df_germany[:int(len(df_germany) * 0.8)]\n",
    "test_data = df_germany[int(len(df_germany) * 0.8):]\n"
   ]
  },
  {
   "cell_type": "code",
   "execution_count": 20,
   "id": "036fddf4",
   "metadata": {},
   "outputs": [
    {
     "data": {
      "text/plain": [
       "((850, 6), (213, 6))"
      ]
     },
     "execution_count": 20,
     "metadata": {},
     "output_type": "execute_result"
    }
   ],
   "source": [
    "# Get the shape of train_data and test_data\n",
    "train_data.shape ,test_data.shape"
   ]
  },
  {
   "cell_type": "markdown",
   "id": "2be5fcd8",
   "metadata": {},
   "source": [
    "# Model Building"
   ]
  },
  {
   "cell_type": "code",
   "execution_count": 21,
   "id": "7b540525",
   "metadata": {},
   "outputs": [
    {
     "data": {
      "text/html": [
       "<div>\n",
       "<style scoped>\n",
       "    .dataframe tbody tr th:only-of-type {\n",
       "        vertical-align: middle;\n",
       "    }\n",
       "\n",
       "    .dataframe tbody tr th {\n",
       "        vertical-align: top;\n",
       "    }\n",
       "\n",
       "    .dataframe thead th {\n",
       "        text-align: right;\n",
       "    }\n",
       "</style>\n",
       "<table border=\"1\" class=\"dataframe\">\n",
       "  <thead>\n",
       "    <tr style=\"text-align: right;\">\n",
       "      <th></th>\n",
       "      <th>ds</th>\n",
       "      <th>Country_code</th>\n",
       "      <th>Country</th>\n",
       "      <th>WHO_region</th>\n",
       "      <th>New_cases</th>\n",
       "      <th>y</th>\n",
       "    </tr>\n",
       "  </thead>\n",
       "  <tbody>\n",
       "    <tr>\n",
       "      <th>0</th>\n",
       "      <td>2020-01-03</td>\n",
       "      <td>DE</td>\n",
       "      <td>Germany</td>\n",
       "      <td>EURO</td>\n",
       "      <td>0</td>\n",
       "      <td>0</td>\n",
       "    </tr>\n",
       "    <tr>\n",
       "      <th>1</th>\n",
       "      <td>2020-01-04</td>\n",
       "      <td>DE</td>\n",
       "      <td>Germany</td>\n",
       "      <td>EURO</td>\n",
       "      <td>1</td>\n",
       "      <td>1</td>\n",
       "    </tr>\n",
       "    <tr>\n",
       "      <th>2</th>\n",
       "      <td>2020-01-05</td>\n",
       "      <td>DE</td>\n",
       "      <td>Germany</td>\n",
       "      <td>EURO</td>\n",
       "      <td>0</td>\n",
       "      <td>1</td>\n",
       "    </tr>\n",
       "    <tr>\n",
       "      <th>3</th>\n",
       "      <td>2020-01-06</td>\n",
       "      <td>DE</td>\n",
       "      <td>Germany</td>\n",
       "      <td>EURO</td>\n",
       "      <td>0</td>\n",
       "      <td>1</td>\n",
       "    </tr>\n",
       "    <tr>\n",
       "      <th>4</th>\n",
       "      <td>2020-01-07</td>\n",
       "      <td>DE</td>\n",
       "      <td>Germany</td>\n",
       "      <td>EURO</td>\n",
       "      <td>0</td>\n",
       "      <td>1</td>\n",
       "    </tr>\n",
       "    <tr>\n",
       "      <th>...</th>\n",
       "      <td>...</td>\n",
       "      <td>...</td>\n",
       "      <td>...</td>\n",
       "      <td>...</td>\n",
       "      <td>...</td>\n",
       "      <td>...</td>\n",
       "    </tr>\n",
       "    <tr>\n",
       "      <th>845</th>\n",
       "      <td>2022-04-27</td>\n",
       "      <td>DE</td>\n",
       "      <td>Germany</td>\n",
       "      <td>EURO</td>\n",
       "      <td>139534</td>\n",
       "      <td>24612011</td>\n",
       "    </tr>\n",
       "    <tr>\n",
       "      <th>846</th>\n",
       "      <td>2022-04-28</td>\n",
       "      <td>DE</td>\n",
       "      <td>Germany</td>\n",
       "      <td>EURO</td>\n",
       "      <td>115772</td>\n",
       "      <td>24727783</td>\n",
       "    </tr>\n",
       "    <tr>\n",
       "      <th>847</th>\n",
       "      <td>2022-04-29</td>\n",
       "      <td>DE</td>\n",
       "      <td>Germany</td>\n",
       "      <td>EURO</td>\n",
       "      <td>94793</td>\n",
       "      <td>24822576</td>\n",
       "    </tr>\n",
       "    <tr>\n",
       "      <th>848</th>\n",
       "      <td>2022-04-30</td>\n",
       "      <td>DE</td>\n",
       "      <td>Germany</td>\n",
       "      <td>EURO</td>\n",
       "      <td>78380</td>\n",
       "      <td>24900956</td>\n",
       "    </tr>\n",
       "    <tr>\n",
       "      <th>849</th>\n",
       "      <td>2022-05-01</td>\n",
       "      <td>DE</td>\n",
       "      <td>Germany</td>\n",
       "      <td>EURO</td>\n",
       "      <td>33955</td>\n",
       "      <td>24934911</td>\n",
       "    </tr>\n",
       "  </tbody>\n",
       "</table>\n",
       "<p>850 rows × 6 columns</p>\n",
       "</div>"
      ],
      "text/plain": [
       "            ds Country_code  Country WHO_region  New_cases         y\n",
       "0   2020-01-03           DE  Germany       EURO          0         0\n",
       "1   2020-01-04           DE  Germany       EURO          1         1\n",
       "2   2020-01-05           DE  Germany       EURO          0         1\n",
       "3   2020-01-06           DE  Germany       EURO          0         1\n",
       "4   2020-01-07           DE  Germany       EURO          0         1\n",
       "..         ...          ...      ...        ...        ...       ...\n",
       "845 2022-04-27           DE  Germany       EURO     139534  24612011\n",
       "846 2022-04-28           DE  Germany       EURO     115772  24727783\n",
       "847 2022-04-29           DE  Germany       EURO      94793  24822576\n",
       "848 2022-04-30           DE  Germany       EURO      78380  24900956\n",
       "849 2022-05-01           DE  Germany       EURO      33955  24934911\n",
       "\n",
       "[850 rows x 6 columns]"
      ]
     },
     "execution_count": 21,
     "metadata": {},
     "output_type": "execute_result"
    }
   ],
   "source": [
    "# Rename the columns of the 'train_data' dataframe for use in the Prophet model\n",
    "train_df = train_data.rename(columns={'Date_reported': 'ds', 'Cumulative_cases': 'y'})\n",
    "train_df\n"
   ]
  },
  {
   "cell_type": "code",
   "execution_count": 22,
   "id": "76aece3c",
   "metadata": {},
   "outputs": [
    {
     "name": "stderr",
     "output_type": "stream",
     "text": [
      "15:06:04 - cmdstanpy - INFO - Chain [1] start processing\n",
      "15:06:05 - cmdstanpy - INFO - Chain [1] done processing\n"
     ]
    },
    {
     "name": "stdout",
     "output_type": "stream",
     "text": [
      "CPU times: user 407 ms, sys: 48.7 ms, total: 456 ms\n",
      "Wall time: 1.36 s\n"
     ]
    },
    {
     "data": {
      "text/plain": [
       "<prophet.forecaster.Prophet at 0x7f45d8c8b250>"
      ]
     },
     "execution_count": 22,
     "metadata": {},
     "output_type": "execute_result"
    }
   ],
   "source": [
    "%%time\n",
    "# define the model\n",
    "model = Prophet()\n",
    "# fit the model\n",
    "model.fit(train_df)"
   ]
  },
  {
   "cell_type": "code",
   "execution_count": 23,
   "id": "1598a452",
   "metadata": {},
   "outputs": [],
   "source": [
    "# Rename the columns of the 'test_data' dataframe for use in the Prophet model\n",
    "test_df = test_data.rename(columns={'Date_reported': 'ds', 'Cumulative_cases': 'y'})\n"
   ]
  },
  {
   "cell_type": "code",
   "execution_count": 24,
   "id": "b2948ac6",
   "metadata": {},
   "outputs": [],
   "source": [
    "# Use the trained Prophet model to make predictions for the test_df\n",
    "predictions = model.predict(test_df)"
   ]
  },
  {
   "cell_type": "code",
   "execution_count": 25,
   "id": "3b11ade9",
   "metadata": {},
   "outputs": [
    {
     "data": {
      "image/png": "[encoded data removed]",
      "text/plain": [
       "<Figure size 600x600 with 1 Axes>"
      ]
     },
     "metadata": {},
     "output_type": "display_data"
    }
   ],
   "source": [
    "# Create a plot to visualize the actual and predicted cumulative cases\n",
    "fig, ax = plt.subplots(figsize=(6, 6))\n",
    "ax.plot(test_df['ds'], test_df['y'], label='Actual')\n",
    "ax.plot(predictions['ds'], predictions['yhat'], label='Predicted')\n",
    "ax.set(title = \"Actual and predicted cumulative cases in Germany\")\n",
    "ax.set_xlabel(\"Date\")\n",
    "ax.set_ylabel(\"Value\")\n",
    "ax.legend()\n",
    "plt.show()"
   ]
  },
  {
   "cell_type": "code",
   "execution_count": 26,
   "id": "385eb5fd",
   "metadata": {},
   "outputs": [
    {
     "data": {
      "application/vnd.jupyter.widget-view+json": {
       "model_id": "8de18c6d9f114408bec6931827032578",
       "version_major": 2,
       "version_minor": 0
      },
      "text/plain": [
       "  0%|          | 0/31 [00:00<?, ?it/s]"
      ]
     },
     "metadata": {},
     "output_type": "display_data"
    },
    {
     "name": "stderr",
     "output_type": "stream",
     "text": [
      "15:06:06 - cmdstanpy - INFO - Chain [1] start processing\n",
      "15:06:06 - cmdstanpy - INFO - Chain [1] done processing\n",
      "15:06:07 - cmdstanpy - INFO - Chain [1] start processing\n",
      "15:06:07 - cmdstanpy - INFO - Chain [1] done processing\n",
      "15:06:07 - cmdstanpy - INFO - Chain [1] start processing\n",
      "15:06:08 - cmdstanpy - INFO - Chain [1] done processing\n",
      "15:06:09 - cmdstanpy - INFO - Chain [1] start processing\n",
      "15:06:09 - cmdstanpy - INFO - Chain [1] done processing\n",
      "15:06:10 - cmdstanpy - INFO - Chain [1] start processing\n",
      "15:06:10 - cmdstanpy - INFO - Chain [1] done processing\n",
      "15:06:11 - cmdstanpy - INFO - Chain [1] start processing\n",
      "15:06:11 - cmdstanpy - INFO - Chain [1] done processing\n",
      "15:06:12 - cmdstanpy - INFO - Chain [1] start processing\n",
      "15:06:13 - cmdstanpy - INFO - Chain [1] done processing\n",
      "15:06:13 - cmdstanpy - INFO - Chain [1] start processing\n",
      "15:06:13 - cmdstanpy - INFO - Chain [1] done processing\n",
      "15:06:14 - cmdstanpy - INFO - Chain [1] start processing\n",
      "15:06:14 - cmdstanpy - INFO - Chain [1] done processing\n",
      "15:06:15 - cmdstanpy - INFO - Chain [1] start processing\n",
      "15:06:15 - cmdstanpy - INFO - Chain [1] done processing\n",
      "15:06:16 - cmdstanpy - INFO - Chain [1] start processing\n",
      "15:06:16 - cmdstanpy - INFO - Chain [1] done processing\n",
      "15:06:17 - cmdstanpy - INFO - Chain [1] start processing\n",
      "15:06:17 - cmdstanpy - INFO - Chain [1] done processing\n",
      "15:06:18 - cmdstanpy - INFO - Chain [1] start processing\n",
      "15:06:18 - cmdstanpy - INFO - Chain [1] done processing\n",
      "15:06:19 - cmdstanpy - INFO - Chain [1] start processing\n",
      "15:06:19 - cmdstanpy - INFO - Chain [1] done processing\n",
      "15:06:20 - cmdstanpy - INFO - Chain [1] start processing\n",
      "15:06:21 - cmdstanpy - INFO - Chain [1] done processing\n",
      "15:06:21 - cmdstanpy - INFO - Chain [1] start processing\n",
      "15:06:22 - cmdstanpy - INFO - Chain [1] done processing\n",
      "15:06:22 - cmdstanpy - INFO - Chain [1] start processing\n",
      "15:06:23 - cmdstanpy - INFO - Chain [1] done processing\n",
      "15:06:24 - cmdstanpy - INFO - Chain [1] start processing\n",
      "15:06:24 - cmdstanpy - INFO - Chain [1] done processing\n",
      "15:06:25 - cmdstanpy - INFO - Chain [1] start processing\n",
      "15:06:26 - cmdstanpy - INFO - Chain [1] done processing\n",
      "15:06:26 - cmdstanpy - INFO - Chain [1] start processing\n",
      "15:06:27 - cmdstanpy - INFO - Chain [1] done processing\n",
      "15:06:28 - cmdstanpy - INFO - Chain [1] start processing\n",
      "15:06:29 - cmdstanpy - INFO - Chain [1] done processing\n",
      "15:06:29 - cmdstanpy - INFO - Chain [1] start processing\n",
      "15:06:30 - cmdstanpy - INFO - Chain [1] done processing\n",
      "15:06:31 - cmdstanpy - INFO - Chain [1] start processing\n",
      "15:06:32 - cmdstanpy - INFO - Chain [1] done processing\n",
      "15:06:33 - cmdstanpy - INFO - Chain [1] start processing\n",
      "15:06:34 - cmdstanpy - INFO - Chain [1] done processing\n",
      "15:06:34 - cmdstanpy - INFO - Chain [1] start processing\n",
      "15:06:35 - cmdstanpy - INFO - Chain [1] done processing\n",
      "15:06:36 - cmdstanpy - INFO - Chain [1] start processing\n",
      "15:06:37 - cmdstanpy - INFO - Chain [1] done processing\n",
      "15:06:37 - cmdstanpy - INFO - Chain [1] start processing\n",
      "15:06:38 - cmdstanpy - INFO - Chain [1] done processing\n",
      "15:06:39 - cmdstanpy - INFO - Chain [1] start processing\n",
      "15:06:40 - cmdstanpy - INFO - Chain [1] done processing\n",
      "15:06:40 - cmdstanpy - INFO - Chain [1] start processing\n",
      "15:06:41 - cmdstanpy - INFO - Chain [1] done processing\n",
      "15:06:42 - cmdstanpy - INFO - Chain [1] start processing\n",
      "15:06:43 - cmdstanpy - INFO - Chain [1] done processing\n",
      "15:06:43 - cmdstanpy - INFO - Chain [1] start processing\n",
      "15:06:44 - cmdstanpy - INFO - Chain [1] done processing\n"
     ]
    }
   ],
   "source": [
    "df_cv = cross_validation(model, horizon='30 days')\n"
   ]
  },
  {
   "cell_type": "code",
   "execution_count": 27,
   "id": "55b156db",
   "metadata": {},
   "outputs": [
    {
     "data": {
      "text/plain": [
       "0.986"
      ]
     },
     "execution_count": 27,
     "metadata": {},
     "output_type": "execute_result"
    }
   ],
   "source": [
    "r2 = round(r2_score(df_cv['y'], df_cv['yhat']),3)\n",
    "r2"
   ]
  },
  {
   "cell_type": "code",
   "execution_count": 28,
   "id": "4a865bd9",
   "metadata": {},
   "outputs": [
    {
     "name": "stdout",
     "output_type": "stream",
     "text": [
      "RMSE: 677423.501\n"
     ]
    }
   ],
   "source": [
    "# Calculate the RMSE\n",
    "rmse = round(np.sqrt(mean_squared_error(df_cv['y'], df_cv['yhat'])),3)\n",
    "print(f'RMSE: {rmse}')"
   ]
  },
  {
   "cell_type": "code",
   "execution_count": 29,
   "id": "d67b0dd1",
   "metadata": {},
   "outputs": [
    {
     "name": "stdout",
     "output_type": "stream",
     "text": [
      "MAE: 298093.643\n"
     ]
    }
   ],
   "source": [
    "# Calculate the MAE\n",
    "mae = round(mean_absolute_error(df_cv['y'], df_cv['yhat']),3)\n",
    "print(f'MAE: {mae}')"
   ]
  },
  {
   "cell_type": "code",
   "execution_count": 30,
   "id": "efb228c6",
   "metadata": {},
   "outputs": [
    {
     "name": "stdout",
     "output_type": "stream",
     "text": [
      "MAPE: 3.176\n"
     ]
    }
   ],
   "source": [
    "# Calculate the MAPE\n",
    "def mean_absolute_percentage_error(y_true, y_pred): \n",
    "    y_true, y_pred = np.array(y_true), np.array(y_pred)\n",
    "    return np.mean(np.abs((y_true - y_pred) / y_true)) * 100\n",
    "\n",
    "mape = round(mean_absolute_percentage_error(df_cv['y'], df_cv['yhat']),3)\n",
    "print(f'MAPE: {mape}')"
   ]
  },
  {
   "cell_type": "markdown",
   "id": "a4a37a4d",
   "metadata": {},
   "source": [
    "## Forecast"
   ]
  },
  {
   "cell_type": "code",
   "execution_count": 31,
   "id": "99e300f6",
   "metadata": {},
   "outputs": [
    {
     "name": "stdout",
     "output_type": "stream",
     "text": [
      "          ds         trend    yhat_lower    yhat_upper   trend_lower  \\\n",
      "0 2022-11-30  4.208232e+07  3.976875e+07  3.995544e+07  4.208232e+07   \n",
      "1 2022-12-01  4.217539e+07  3.982459e+07  4.001155e+07  4.217539e+07   \n",
      "2 2022-12-02  4.226847e+07  3.988653e+07  4.006599e+07  4.226847e+07   \n",
      "3 2022-12-03  4.236155e+07  3.992726e+07  4.012355e+07  4.236155e+07   \n",
      "4 2022-12-04  4.245462e+07  3.996735e+07  4.017383e+07  4.245462e+07   \n",
      "\n",
      "    trend_upper  additive_terms  additive_terms_lower  additive_terms_upper  \\\n",
      "0  4.208232e+07   -2.222940e+06         -2.222940e+06         -2.222940e+06   \n",
      "1  4.217539e+07   -2.255351e+06         -2.255351e+06         -2.255351e+06   \n",
      "2  4.226847e+07   -2.293290e+06         -2.293290e+06         -2.293290e+06   \n",
      "3  4.236155e+07   -2.333867e+06         -2.333867e+06         -2.333867e+06   \n",
      "4  4.245462e+07   -2.386020e+06         -2.386020e+06         -2.386020e+06   \n",
      "\n",
      "         weekly  weekly_lower  weekly_upper        yearly  yearly_lower  \\\n",
      "0  -4997.630465  -4997.630465  -4997.630465 -2.217942e+06 -2.217942e+06   \n",
      "1   5193.106891   5193.106891   5193.106891 -2.260544e+06 -2.260544e+06   \n",
      "2  10041.864198  10041.864198  10041.864198 -2.303332e+06 -2.303332e+06   \n",
      "3  12449.083786  12449.083786  12449.083786 -2.346316e+06 -2.346316e+06   \n",
      "4   3500.430069   3500.430069   3500.430069 -2.389520e+06 -2.389520e+06   \n",
      "\n",
      "   yearly_upper  multiplicative_terms  multiplicative_terms_lower  \\\n",
      "0 -2.217942e+06                   0.0                         0.0   \n",
      "1 -2.260544e+06                   0.0                         0.0   \n",
      "2 -2.303332e+06                   0.0                         0.0   \n",
      "3 -2.346316e+06                   0.0                         0.0   \n",
      "4 -2.389520e+06                   0.0                         0.0   \n",
      "\n",
      "   multiplicative_terms_upper          yhat  \n",
      "0                         0.0  3.985938e+07  \n",
      "1                         0.0  3.992004e+07  \n",
      "2                         0.0  3.997518e+07  \n",
      "3                         0.0  4.002768e+07  \n",
      "4                         0.0  4.006860e+07  \n"
     ]
    }
   ],
   "source": [
    "# Calculate the last day of the test data\n",
    "last_day_of_test = test_df['ds'].iloc[-1]\n",
    "\n",
    "# Calculate the dates for the forecast\n",
    "future_dates = pd.date_range(start=last_day_of_test, periods=31, freq='D')\n",
    "\n",
    "# Create a DataFrame for the forecast dates\n",
    "forecast_dates = pd.DataFrame({'ds': future_dates})\n",
    "\n",
    "# Predict the future values\n",
    "forecast = model.predict(forecast_dates)\n",
    "print(forecast.head())"
   ]
  },
  {
   "cell_type": "code",
   "execution_count": 32,
   "id": "6c1bf672",
   "metadata": {},
   "outputs": [
    {
     "data": {
      "image/png": "[encoded data removed]",
      "text/plain": [
       "<Figure size 900x500 with 1 Axes>"
      ]
     },
     "metadata": {},
     "output_type": "display_data"
    }
   ],
   "source": [
    "# Create a plot to visualize the forecast values\n",
    "fig, ax = plt.subplots(figsize=(9, 5))\n",
    "ax.plot(forecast_dates['ds'], forecast['yhat'], label='Forecast')\n",
    "ax.set_xlabel(\"Date\")\n",
    "ax.set_ylabel(\"Forecast Values\")\n",
    "ax.set(title = \"Cumulative forecast values in Germany for 30 days\")\n",
    "ax.legend()\n",
    "plt.show()"
   ]
  },
  {
   "cell_type": "markdown",
   "id": "1ca15ff3",
   "metadata": {},
   "source": [
    "## Cumulative cases prediction in India"
   ]
  },
  {
   "cell_type": "code",
   "execution_count": 33,
   "id": "43c3ad00",
   "metadata": {},
   "outputs": [
    {
     "data": {
      "text/html": [
       "<div>\n",
       "<style scoped>\n",
       "    .dataframe tbody tr th:only-of-type {\n",
       "        vertical-align: middle;\n",
       "    }\n",
       "\n",
       "    .dataframe tbody tr th {\n",
       "        vertical-align: top;\n",
       "    }\n",
       "\n",
       "    .dataframe thead th {\n",
       "        text-align: right;\n",
       "    }\n",
       "</style>\n",
       "<table border=\"1\" class=\"dataframe\">\n",
       "  <thead>\n",
       "    <tr style=\"text-align: right;\">\n",
       "      <th></th>\n",
       "      <th>Date_reported</th>\n",
       "      <th>Country_code</th>\n",
       "      <th>Country</th>\n",
       "      <th>WHO_region</th>\n",
       "      <th>New_cases</th>\n",
       "      <th>Cumulative_cases</th>\n",
       "    </tr>\n",
       "  </thead>\n",
       "  <tbody>\n",
       "    <tr>\n",
       "      <th>1063</th>\n",
       "      <td>2020-01-03</td>\n",
       "      <td>IN</td>\n",
       "      <td>India</td>\n",
       "      <td>SEARO</td>\n",
       "      <td>0</td>\n",
       "      <td>0</td>\n",
       "    </tr>\n",
       "    <tr>\n",
       "      <th>1064</th>\n",
       "      <td>2020-01-04</td>\n",
       "      <td>IN</td>\n",
       "      <td>India</td>\n",
       "      <td>SEARO</td>\n",
       "      <td>0</td>\n",
       "      <td>0</td>\n",
       "    </tr>\n",
       "    <tr>\n",
       "      <th>1065</th>\n",
       "      <td>2020-01-05</td>\n",
       "      <td>IN</td>\n",
       "      <td>India</td>\n",
       "      <td>SEARO</td>\n",
       "      <td>0</td>\n",
       "      <td>0</td>\n",
       "    </tr>\n",
       "    <tr>\n",
       "      <th>1066</th>\n",
       "      <td>2020-01-06</td>\n",
       "      <td>IN</td>\n",
       "      <td>India</td>\n",
       "      <td>SEARO</td>\n",
       "      <td>0</td>\n",
       "      <td>0</td>\n",
       "    </tr>\n",
       "    <tr>\n",
       "      <th>1067</th>\n",
       "      <td>2020-01-07</td>\n",
       "      <td>IN</td>\n",
       "      <td>India</td>\n",
       "      <td>SEARO</td>\n",
       "      <td>0</td>\n",
       "      <td>0</td>\n",
       "    </tr>\n",
       "    <tr>\n",
       "      <th>...</th>\n",
       "      <td>...</td>\n",
       "      <td>...</td>\n",
       "      <td>...</td>\n",
       "      <td>...</td>\n",
       "      <td>...</td>\n",
       "      <td>...</td>\n",
       "    </tr>\n",
       "    <tr>\n",
       "      <th>2121</th>\n",
       "      <td>2022-11-26</td>\n",
       "      <td>IN</td>\n",
       "      <td>India</td>\n",
       "      <td>SEARO</td>\n",
       "      <td>389</td>\n",
       "      <td>44671219</td>\n",
       "    </tr>\n",
       "    <tr>\n",
       "      <th>2122</th>\n",
       "      <td>2022-11-27</td>\n",
       "      <td>IN</td>\n",
       "      <td>India</td>\n",
       "      <td>SEARO</td>\n",
       "      <td>343</td>\n",
       "      <td>44671562</td>\n",
       "    </tr>\n",
       "    <tr>\n",
       "      <th>2123</th>\n",
       "      <td>2022-11-28</td>\n",
       "      <td>IN</td>\n",
       "      <td>India</td>\n",
       "      <td>SEARO</td>\n",
       "      <td>291</td>\n",
       "      <td>44671853</td>\n",
       "    </tr>\n",
       "    <tr>\n",
       "      <th>2124</th>\n",
       "      <td>2022-11-29</td>\n",
       "      <td>IN</td>\n",
       "      <td>India</td>\n",
       "      <td>SEARO</td>\n",
       "      <td>215</td>\n",
       "      <td>44672068</td>\n",
       "    </tr>\n",
       "    <tr>\n",
       "      <th>2125</th>\n",
       "      <td>2022-11-30</td>\n",
       "      <td>IN</td>\n",
       "      <td>India</td>\n",
       "      <td>SEARO</td>\n",
       "      <td>279</td>\n",
       "      <td>44672347</td>\n",
       "    </tr>\n",
       "  </tbody>\n",
       "</table>\n",
       "<p>1063 rows × 6 columns</p>\n",
       "</div>"
      ],
      "text/plain": [
       "     Date_reported Country_code Country WHO_region  New_cases  \\\n",
       "1063    2020-01-03           IN   India      SEARO          0   \n",
       "1064    2020-01-04           IN   India      SEARO          0   \n",
       "1065    2020-01-05           IN   India      SEARO          0   \n",
       "1066    2020-01-06           IN   India      SEARO          0   \n",
       "1067    2020-01-07           IN   India      SEARO          0   \n",
       "...            ...          ...     ...        ...        ...   \n",
       "2121    2022-11-26           IN   India      SEARO        389   \n",
       "2122    2022-11-27           IN   India      SEARO        343   \n",
       "2123    2022-11-28           IN   India      SEARO        291   \n",
       "2124    2022-11-29           IN   India      SEARO        215   \n",
       "2125    2022-11-30           IN   India      SEARO        279   \n",
       "\n",
       "      Cumulative_cases  \n",
       "1063                 0  \n",
       "1064                 0  \n",
       "1065                 0  \n",
       "1066                 0  \n",
       "1067                 0  \n",
       "...                ...  \n",
       "2121          44671219  \n",
       "2122          44671562  \n",
       "2123          44671853  \n",
       "2124          44672068  \n",
       "2125          44672347  \n",
       "\n",
       "[1063 rows x 6 columns]"
      ]
     },
     "execution_count": 33,
     "metadata": {},
     "output_type": "execute_result"
    }
   ],
   "source": [
    "df_india"
   ]
  },
  {
   "cell_type": "code",
   "execution_count": 34,
   "id": "12635dbb",
   "metadata": {},
   "outputs": [],
   "source": [
    "# Split the data into train and test sets\n",
    "train_data = df_india[:int(len(df_india) * 0.8)]\n",
    "test_data = df_india[int(len(df_india) * 0.8):]\n"
   ]
  },
  {
   "cell_type": "code",
   "execution_count": 35,
   "id": "a8924a01",
   "metadata": {},
   "outputs": [
    {
     "data": {
      "text/plain": [
       "((850, 6), (213, 6))"
      ]
     },
     "execution_count": 35,
     "metadata": {},
     "output_type": "execute_result"
    }
   ],
   "source": [
    "# Get the shape of train_data and test_data\n",
    "train_data.shape, test_data.shape"
   ]
  },
  {
   "cell_type": "markdown",
   "id": "e1830d80",
   "metadata": {},
   "source": [
    "## Model Building"
   ]
  },
  {
   "cell_type": "code",
   "execution_count": 36,
   "id": "b743d645",
   "metadata": {},
   "outputs": [
    {
     "data": {
      "text/html": [
       "<div>\n",
       "<style scoped>\n",
       "    .dataframe tbody tr th:only-of-type {\n",
       "        vertical-align: middle;\n",
       "    }\n",
       "\n",
       "    .dataframe tbody tr th {\n",
       "        vertical-align: top;\n",
       "    }\n",
       "\n",
       "    .dataframe thead th {\n",
       "        text-align: right;\n",
       "    }\n",
       "</style>\n",
       "<table border=\"1\" class=\"dataframe\">\n",
       "  <thead>\n",
       "    <tr style=\"text-align: right;\">\n",
       "      <th></th>\n",
       "      <th>ds</th>\n",
       "      <th>Country_code</th>\n",
       "      <th>Country</th>\n",
       "      <th>WHO_region</th>\n",
       "      <th>New_cases</th>\n",
       "      <th>y</th>\n",
       "    </tr>\n",
       "  </thead>\n",
       "  <tbody>\n",
       "    <tr>\n",
       "      <th>1063</th>\n",
       "      <td>2020-01-03</td>\n",
       "      <td>IN</td>\n",
       "      <td>India</td>\n",
       "      <td>SEARO</td>\n",
       "      <td>0</td>\n",
       "      <td>0</td>\n",
       "    </tr>\n",
       "    <tr>\n",
       "      <th>1064</th>\n",
       "      <td>2020-01-04</td>\n",
       "      <td>IN</td>\n",
       "      <td>India</td>\n",
       "      <td>SEARO</td>\n",
       "      <td>0</td>\n",
       "      <td>0</td>\n",
       "    </tr>\n",
       "    <tr>\n",
       "      <th>1065</th>\n",
       "      <td>2020-01-05</td>\n",
       "      <td>IN</td>\n",
       "      <td>India</td>\n",
       "      <td>SEARO</td>\n",
       "      <td>0</td>\n",
       "      <td>0</td>\n",
       "    </tr>\n",
       "    <tr>\n",
       "      <th>1066</th>\n",
       "      <td>2020-01-06</td>\n",
       "      <td>IN</td>\n",
       "      <td>India</td>\n",
       "      <td>SEARO</td>\n",
       "      <td>0</td>\n",
       "      <td>0</td>\n",
       "    </tr>\n",
       "    <tr>\n",
       "      <th>1067</th>\n",
       "      <td>2020-01-07</td>\n",
       "      <td>IN</td>\n",
       "      <td>India</td>\n",
       "      <td>SEARO</td>\n",
       "      <td>0</td>\n",
       "      <td>0</td>\n",
       "    </tr>\n",
       "    <tr>\n",
       "      <th>...</th>\n",
       "      <td>...</td>\n",
       "      <td>...</td>\n",
       "      <td>...</td>\n",
       "      <td>...</td>\n",
       "      <td>...</td>\n",
       "      <td>...</td>\n",
       "    </tr>\n",
       "    <tr>\n",
       "      <th>1908</th>\n",
       "      <td>2022-04-27</td>\n",
       "      <td>IN</td>\n",
       "      <td>India</td>\n",
       "      <td>SEARO</td>\n",
       "      <td>2927</td>\n",
       "      <td>43065496</td>\n",
       "    </tr>\n",
       "    <tr>\n",
       "      <th>1909</th>\n",
       "      <td>2022-04-28</td>\n",
       "      <td>IN</td>\n",
       "      <td>India</td>\n",
       "      <td>SEARO</td>\n",
       "      <td>3303</td>\n",
       "      <td>43068799</td>\n",
       "    </tr>\n",
       "    <tr>\n",
       "      <th>1910</th>\n",
       "      <td>2022-04-29</td>\n",
       "      <td>IN</td>\n",
       "      <td>India</td>\n",
       "      <td>SEARO</td>\n",
       "      <td>3377</td>\n",
       "      <td>43072176</td>\n",
       "    </tr>\n",
       "    <tr>\n",
       "      <th>1911</th>\n",
       "      <td>2022-04-30</td>\n",
       "      <td>IN</td>\n",
       "      <td>India</td>\n",
       "      <td>SEARO</td>\n",
       "      <td>3688</td>\n",
       "      <td>43075864</td>\n",
       "    </tr>\n",
       "    <tr>\n",
       "      <th>1912</th>\n",
       "      <td>2022-05-01</td>\n",
       "      <td>IN</td>\n",
       "      <td>India</td>\n",
       "      <td>SEARO</td>\n",
       "      <td>3324</td>\n",
       "      <td>43079188</td>\n",
       "    </tr>\n",
       "  </tbody>\n",
       "</table>\n",
       "<p>850 rows × 6 columns</p>\n",
       "</div>"
      ],
      "text/plain": [
       "             ds Country_code Country WHO_region  New_cases         y\n",
       "1063 2020-01-03           IN   India      SEARO          0         0\n",
       "1064 2020-01-04           IN   India      SEARO          0         0\n",
       "1065 2020-01-05           IN   India      SEARO          0         0\n",
       "1066 2020-01-06           IN   India      SEARO          0         0\n",
       "1067 2020-01-07           IN   India      SEARO          0         0\n",
       "...         ...          ...     ...        ...        ...       ...\n",
       "1908 2022-04-27           IN   India      SEARO       2927  43065496\n",
       "1909 2022-04-28           IN   India      SEARO       3303  43068799\n",
       "1910 2022-04-29           IN   India      SEARO       3377  43072176\n",
       "1911 2022-04-30           IN   India      SEARO       3688  43075864\n",
       "1912 2022-05-01           IN   India      SEARO       3324  43079188\n",
       "\n",
       "[850 rows x 6 columns]"
      ]
     },
     "execution_count": 36,
     "metadata": {},
     "output_type": "execute_result"
    }
   ],
   "source": [
    "# Rename the columns of the 'train_data' dataframe for use in the Prophet model\n",
    "train_df = train_data.rename(columns={'Date_reported': 'ds', 'Cumulative_cases': 'y'})\n",
    "train_df\n"
   ]
  },
  {
   "cell_type": "code",
   "execution_count": 37,
   "id": "0f674573",
   "metadata": {},
   "outputs": [
    {
     "name": "stderr",
     "output_type": "stream",
     "text": [
      "15:06:45 - cmdstanpy - INFO - Chain [1] start processing\n",
      "15:06:47 - cmdstanpy - INFO - Chain [1] done processing\n"
     ]
    },
    {
     "name": "stdout",
     "output_type": "stream",
     "text": [
      "CPU times: user 112 ms, sys: 11.8 ms, total: 123 ms\n",
      "Wall time: 1.53 s\n"
     ]
    },
    {
     "data": {
      "text/plain": [
       "<prophet.forecaster.Prophet at 0x7f45d7580d50>"
      ]
     },
     "execution_count": 37,
     "metadata": {},
     "output_type": "execute_result"
    }
   ],
   "source": [
    "%%time\n",
    "# define the model\n",
    "model = Prophet(seasonality_prior_scale=0.02)\n",
    "\n",
    "# model = Prophet(seasonality_mode='additive')\n",
    "# fit the model\n",
    "model.fit(train_df)"
   ]
  },
  {
   "cell_type": "code",
   "execution_count": 38,
   "id": "07c7e0a2",
   "metadata": {},
   "outputs": [],
   "source": [
    "# Rename the columns of the 'test_data' dataframe for use in the Prophet model\n",
    "test_df = test_data.rename(columns={'Date_reported': 'ds', 'Cumulative_cases': 'y'})"
   ]
  },
  {
   "cell_type": "code",
   "execution_count": 39,
   "id": "018d8f33",
   "metadata": {},
   "outputs": [],
   "source": [
    "#Use the trained Prophet model to make predictions for the test_df\n",
    "predictions = model.predict(test_df)"
   ]
  },
  {
   "cell_type": "code",
   "execution_count": 40,
   "id": "066bf465",
   "metadata": {},
   "outputs": [
    {
     "data": {
      "image/png": "[encoded data removed]",
      "text/plain": [
       "<Figure size 600x600 with 1 Axes>"
      ]
     },
     "metadata": {},
     "output_type": "display_data"
    }
   ],
   "source": [
    "# Create a plot to visualize the actual and predicted values\n",
    "fig, ax = plt.subplots(figsize=(6, 6))\n",
    "ax.plot(test_df['ds'], test_df['y'], label='Actual')\n",
    "ax.plot(predictions['ds'], predictions['yhat'], label='Predicted')\n",
    "ax.set_xlabel(\"Date\")\n",
    "ax.set_ylabel(\"Value\")\n",
    "ax.set(title = \"Actual and predicted cumulative cases in India\")\n",
    "ax.legend()\n",
    "plt.show()"
   ]
  },
  {
   "cell_type": "code",
   "execution_count": 41,
   "id": "248c23d0",
   "metadata": {},
   "outputs": [
    {
     "data": {
      "application/vnd.jupyter.widget-view+json": {
       "model_id": "297ff08569cc4a2f8f60b82d773e240b",
       "version_major": 2,
       "version_minor": 0
      },
      "text/plain": [
       "  0%|          | 0/31 [00:00<?, ?it/s]"
      ]
     },
     "metadata": {},
     "output_type": "display_data"
    },
    {
     "name": "stderr",
     "output_type": "stream",
     "text": [
      "15:06:47 - cmdstanpy - INFO - Chain [1] start processing\n",
      "15:06:48 - cmdstanpy - INFO - Chain [1] done processing\n",
      "15:06:48 - cmdstanpy - INFO - Chain [1] start processing\n",
      "15:06:48 - cmdstanpy - INFO - Chain [1] done processing\n",
      "15:06:49 - cmdstanpy - INFO - Chain [1] start processing\n",
      "15:06:49 - cmdstanpy - INFO - Chain [1] done processing\n",
      "15:06:49 - cmdstanpy - INFO - Chain [1] start processing\n",
      "15:06:50 - cmdstanpy - INFO - Chain [1] done processing\n",
      "15:06:50 - cmdstanpy - INFO - Chain [1] start processing\n",
      "15:06:51 - cmdstanpy - INFO - Chain [1] done processing\n",
      "15:06:51 - cmdstanpy - INFO - Chain [1] start processing\n",
      "15:06:51 - cmdstanpy - INFO - Chain [1] done processing\n",
      "15:06:52 - cmdstanpy - INFO - Chain [1] start processing\n",
      "15:06:52 - cmdstanpy - INFO - Chain [1] done processing\n",
      "15:06:53 - cmdstanpy - INFO - Chain [1] start processing\n",
      "15:06:53 - cmdstanpy - INFO - Chain [1] done processing\n",
      "15:06:54 - cmdstanpy - INFO - Chain [1] start processing\n",
      "15:06:54 - cmdstanpy - INFO - Chain [1] done processing\n",
      "15:06:55 - cmdstanpy - INFO - Chain [1] start processing\n",
      "15:06:55 - cmdstanpy - INFO - Chain [1] done processing\n",
      "15:06:56 - cmdstanpy - INFO - Chain [1] start processing\n",
      "15:06:56 - cmdstanpy - INFO - Chain [1] done processing\n",
      "15:06:57 - cmdstanpy - INFO - Chain [1] start processing\n",
      "15:06:57 - cmdstanpy - INFO - Chain [1] done processing\n",
      "15:06:58 - cmdstanpy - INFO - Chain [1] start processing\n",
      "15:06:58 - cmdstanpy - INFO - Chain [1] done processing\n",
      "15:06:59 - cmdstanpy - INFO - Chain [1] start processing\n",
      "15:07:00 - cmdstanpy - INFO - Chain [1] done processing\n",
      "15:07:00 - cmdstanpy - INFO - Chain [1] start processing\n",
      "15:07:01 - cmdstanpy - INFO - Chain [1] done processing\n",
      "15:07:01 - cmdstanpy - INFO - Chain [1] start processing\n",
      "15:07:02 - cmdstanpy - INFO - Chain [1] done processing\n",
      "15:07:03 - cmdstanpy - INFO - Chain [1] start processing\n",
      "15:07:03 - cmdstanpy - INFO - Chain [1] done processing\n",
      "15:07:04 - cmdstanpy - INFO - Chain [1] start processing\n",
      "15:07:05 - cmdstanpy - INFO - Chain [1] done processing\n",
      "15:07:05 - cmdstanpy - INFO - Chain [1] start processing\n",
      "15:07:06 - cmdstanpy - INFO - Chain [1] done processing\n",
      "15:07:06 - cmdstanpy - INFO - Chain [1] start processing\n",
      "15:07:07 - cmdstanpy - INFO - Chain [1] done processing\n",
      "15:07:08 - cmdstanpy - INFO - Chain [1] start processing\n",
      "15:07:08 - cmdstanpy - INFO - Chain [1] done processing\n",
      "15:07:09 - cmdstanpy - INFO - Chain [1] start processing\n",
      "15:07:10 - cmdstanpy - INFO - Chain [1] done processing\n",
      "15:07:10 - cmdstanpy - INFO - Chain [1] start processing\n",
      "15:07:11 - cmdstanpy - INFO - Chain [1] done processing\n",
      "15:07:11 - cmdstanpy - INFO - Chain [1] start processing\n",
      "15:07:12 - cmdstanpy - INFO - Chain [1] done processing\n",
      "15:07:13 - cmdstanpy - INFO - Chain [1] start processing\n",
      "15:07:14 - cmdstanpy - INFO - Chain [1] done processing\n",
      "15:07:14 - cmdstanpy - INFO - Chain [1] start processing\n",
      "15:07:15 - cmdstanpy - INFO - Chain [1] done processing\n",
      "15:07:16 - cmdstanpy - INFO - Chain [1] start processing\n",
      "15:07:17 - cmdstanpy - INFO - Chain [1] done processing\n",
      "15:07:18 - cmdstanpy - INFO - Chain [1] start processing\n",
      "15:07:19 - cmdstanpy - INFO - Chain [1] done processing\n",
      "15:07:19 - cmdstanpy - INFO - Chain [1] start processing\n",
      "15:07:20 - cmdstanpy - INFO - Chain [1] done processing\n",
      "15:07:21 - cmdstanpy - INFO - Chain [1] start processing\n",
      "15:07:22 - cmdstanpy - INFO - Chain [1] done processing\n",
      "15:07:22 - cmdstanpy - INFO - Chain [1] start processing\n",
      "15:07:24 - cmdstanpy - INFO - Chain [1] done processing\n"
     ]
    }
   ],
   "source": [
    "df_cv = cross_validation(model, horizon='30 days')"
   ]
  },
  {
   "cell_type": "code",
   "execution_count": 42,
   "id": "f96ef3ef",
   "metadata": {},
   "outputs": [
    {
     "data": {
      "text/plain": [
       "0.98"
      ]
     },
     "execution_count": 42,
     "metadata": {},
     "output_type": "execute_result"
    }
   ],
   "source": [
    "# calculate the R2\n",
    "r2 = round(r2_score(df_cv['y'], df_cv['yhat']),3)\n",
    "r2"
   ]
  },
  {
   "cell_type": "code",
   "execution_count": 43,
   "id": "551ed7ad",
   "metadata": {},
   "outputs": [
    {
     "name": "stdout",
     "output_type": "stream",
     "text": [
      "RMSE: 1512313.083\n"
     ]
    }
   ],
   "source": [
    "# Calculate the RMSE\n",
    "rmse = round(np.sqrt(mean_squared_error(df_cv['y'], df_cv['yhat'])),3)\n",
    "print(f'RMSE: {rmse}')"
   ]
  },
  {
   "cell_type": "code",
   "execution_count": 44,
   "id": "139461ad",
   "metadata": {},
   "outputs": [
    {
     "name": "stdout",
     "output_type": "stream",
     "text": [
      "MAE: 863342.48\n"
     ]
    }
   ],
   "source": [
    "# Calculate the MAE\n",
    "mae = round(mean_absolute_error(df_cv['y'], df_cv['yhat']),3)\n",
    "print(f'MAE: {mae}')"
   ]
  },
  {
   "cell_type": "code",
   "execution_count": 45,
   "id": "83d3b13b",
   "metadata": {},
   "outputs": [
    {
     "name": "stdout",
     "output_type": "stream",
     "text": [
      "MAPE: 2.921\n"
     ]
    }
   ],
   "source": [
    "# Calculate the MAPE\n",
    "def mean_absolute_percentage_error(y_true, y_pred): \n",
    "    y_true, y_pred = np.array(y_true), np.array(y_pred)\n",
    "    return np.mean(np.abs((y_true - y_pred) / y_true)) * 100\n",
    "\n",
    "mape = round(mean_absolute_percentage_error(df_cv['y'], df_cv['yhat']),3)\n",
    "print(f'MAPE: {mape}')"
   ]
  },
  {
   "cell_type": "markdown",
   "id": "1c8ef7e9",
   "metadata": {},
   "source": [
    "## Forecast"
   ]
  },
  {
   "cell_type": "code",
   "execution_count": 46,
   "id": "6e664d57",
   "metadata": {},
   "outputs": [
    {
     "name": "stdout",
     "output_type": "stream",
     "text": [
      "          ds         trend    yhat_lower    yhat_upper   trend_lower  \\\n",
      "0 2022-11-30  4.961599e+07  4.714311e+07  4.758657e+07  4.961599e+07   \n",
      "1 2022-12-01  4.965126e+07  4.714259e+07  4.757775e+07  4.965126e+07   \n",
      "2 2022-12-02  4.968653e+07  4.713344e+07  4.758542e+07  4.968653e+07   \n",
      "3 2022-12-03  4.972180e+07  4.713919e+07  4.761585e+07  4.972180e+07   \n",
      "4 2022-12-04  4.975707e+07  4.712953e+07  4.760428e+07  4.975707e+07   \n",
      "\n",
      "    trend_upper  additive_terms  additive_terms_lower  additive_terms_upper  \\\n",
      "0  4.961599e+07   -2.256701e+06         -2.256701e+06         -2.256701e+06   \n",
      "1  4.965126e+07   -2.285170e+06         -2.285170e+06         -2.285170e+06   \n",
      "2  4.968653e+07   -2.317986e+06         -2.317986e+06         -2.317986e+06   \n",
      "3  4.972180e+07   -2.347658e+06         -2.347658e+06         -2.347658e+06   \n",
      "4  4.975707e+07   -2.379267e+06         -2.379267e+06         -2.379267e+06   \n",
      "\n",
      "        weekly  weekly_lower  weekly_upper        yearly  yearly_lower  \\\n",
      "0 -3808.067260  -3808.067260  -3808.067260 -2.252893e+06 -2.252893e+06   \n",
      "1   587.768133    587.768133    587.768133 -2.285758e+06 -2.285758e+06   \n",
      "2    34.514676     34.514676     34.514676 -2.318021e+06 -2.318021e+06   \n",
      "3  2017.767379   2017.767379   2017.767379 -2.349676e+06 -2.349676e+06   \n",
      "4  1474.167994   1474.167994   1474.167994 -2.380741e+06 -2.380741e+06   \n",
      "\n",
      "   yearly_upper  multiplicative_terms  multiplicative_terms_lower  \\\n",
      "0 -2.252893e+06                   0.0                         0.0   \n",
      "1 -2.285758e+06                   0.0                         0.0   \n",
      "2 -2.318021e+06                   0.0                         0.0   \n",
      "3 -2.349676e+06                   0.0                         0.0   \n",
      "4 -2.380741e+06                   0.0                         0.0   \n",
      "\n",
      "   multiplicative_terms_upper          yhat  \n",
      "0                         0.0  4.735928e+07  \n",
      "1                         0.0  4.736609e+07  \n",
      "2                         0.0  4.736854e+07  \n",
      "3                         0.0  4.737414e+07  \n",
      "4                         0.0  4.737780e+07  \n"
     ]
    }
   ],
   "source": [
    "# Calculate the last day of the test data\n",
    "last_day_of_test = test_df['ds'].iloc[-1]\n",
    "\n",
    "# Calculate the dates for the forecast\n",
    "future_dates = pd.date_range(start=last_day_of_test, periods=31, freq='D')\n",
    "\n",
    "# Create a DataFrame for the forecast dates\n",
    "forecast_dates = pd.DataFrame({'ds': future_dates})\n",
    "\n",
    "# Predict the future values\n",
    "forecast = model.predict(forecast_dates)\n",
    "print(forecast.head())"
   ]
  },
  {
   "cell_type": "code",
   "execution_count": 47,
   "id": "44c2be96",
   "metadata": {},
   "outputs": [
    {
     "data": {
      "image/png": "[encoded data removed]",
      "text/plain": [
       "<Figure size 900x500 with 1 Axes>"
      ]
     },
     "metadata": {},
     "output_type": "display_data"
    }
   ],
   "source": [
    "# Create a plot to visualize the forecast values\n",
    "fig, ax = plt.subplots(figsize=(9, 5))\n",
    "ax.plot(forecast_dates['ds'], forecast['yhat'], label='Forecast')\n",
    "ax.set_xlabel(\"Date\")\n",
    "ax.set_ylabel(\"Forecast Values\")\n",
    "ax.set(title = \"Cumulative forecast values in India for 30 days\")\n",
    "\n",
    "ax.legend()\n",
    "plt.show()"
   ]
  },
  {
   "cell_type": "markdown",
   "id": "e505e772",
   "metadata": {},
   "source": [
    "# Cumulative cases prediction in USA"
   ]
  },
  {
   "cell_type": "code",
   "execution_count": 48,
   "id": "d646b6bd",
   "metadata": {},
   "outputs": [
    {
     "data": {
      "text/html": [
       "<div>\n",
       "<style scoped>\n",
       "    .dataframe tbody tr th:only-of-type {\n",
       "        vertical-align: middle;\n",
       "    }\n",
       "\n",
       "    .dataframe tbody tr th {\n",
       "        vertical-align: top;\n",
       "    }\n",
       "\n",
       "    .dataframe thead th {\n",
       "        text-align: right;\n",
       "    }\n",
       "</style>\n",
       "<table border=\"1\" class=\"dataframe\">\n",
       "  <thead>\n",
       "    <tr style=\"text-align: right;\">\n",
       "      <th></th>\n",
       "      <th>Date_reported</th>\n",
       "      <th>Country_code</th>\n",
       "      <th>Country</th>\n",
       "      <th>WHO_region</th>\n",
       "      <th>New_cases</th>\n",
       "      <th>Cumulative_cases</th>\n",
       "    </tr>\n",
       "  </thead>\n",
       "  <tbody>\n",
       "    <tr>\n",
       "      <th>2126</th>\n",
       "      <td>2020-01-03</td>\n",
       "      <td>US</td>\n",
       "      <td>United States of America</td>\n",
       "      <td>AMRO</td>\n",
       "      <td>0</td>\n",
       "      <td>0</td>\n",
       "    </tr>\n",
       "    <tr>\n",
       "      <th>2127</th>\n",
       "      <td>2020-01-04</td>\n",
       "      <td>US</td>\n",
       "      <td>United States of America</td>\n",
       "      <td>AMRO</td>\n",
       "      <td>0</td>\n",
       "      <td>0</td>\n",
       "    </tr>\n",
       "    <tr>\n",
       "      <th>2128</th>\n",
       "      <td>2020-01-05</td>\n",
       "      <td>US</td>\n",
       "      <td>United States of America</td>\n",
       "      <td>AMRO</td>\n",
       "      <td>0</td>\n",
       "      <td>0</td>\n",
       "    </tr>\n",
       "    <tr>\n",
       "      <th>2129</th>\n",
       "      <td>2020-01-06</td>\n",
       "      <td>US</td>\n",
       "      <td>United States of America</td>\n",
       "      <td>AMRO</td>\n",
       "      <td>0</td>\n",
       "      <td>0</td>\n",
       "    </tr>\n",
       "    <tr>\n",
       "      <th>2130</th>\n",
       "      <td>2020-01-07</td>\n",
       "      <td>US</td>\n",
       "      <td>United States of America</td>\n",
       "      <td>AMRO</td>\n",
       "      <td>0</td>\n",
       "      <td>0</td>\n",
       "    </tr>\n",
       "    <tr>\n",
       "      <th>...</th>\n",
       "      <td>...</td>\n",
       "      <td>...</td>\n",
       "      <td>...</td>\n",
       "      <td>...</td>\n",
       "      <td>...</td>\n",
       "      <td>...</td>\n",
       "    </tr>\n",
       "    <tr>\n",
       "      <th>3184</th>\n",
       "      <td>2022-11-26</td>\n",
       "      <td>US</td>\n",
       "      <td>United States of America</td>\n",
       "      <td>AMRO</td>\n",
       "      <td>0</td>\n",
       "      <td>97329491</td>\n",
       "    </tr>\n",
       "    <tr>\n",
       "      <th>3185</th>\n",
       "      <td>2022-11-27</td>\n",
       "      <td>US</td>\n",
       "      <td>United States of America</td>\n",
       "      <td>AMRO</td>\n",
       "      <td>0</td>\n",
       "      <td>97329491</td>\n",
       "    </tr>\n",
       "    <tr>\n",
       "      <th>3186</th>\n",
       "      <td>2022-11-28</td>\n",
       "      <td>US</td>\n",
       "      <td>United States of America</td>\n",
       "      <td>AMRO</td>\n",
       "      <td>0</td>\n",
       "      <td>97329491</td>\n",
       "    </tr>\n",
       "    <tr>\n",
       "      <th>3187</th>\n",
       "      <td>2022-11-29</td>\n",
       "      <td>US</td>\n",
       "      <td>United States of America</td>\n",
       "      <td>AMRO</td>\n",
       "      <td>0</td>\n",
       "      <td>97329491</td>\n",
       "    </tr>\n",
       "    <tr>\n",
       "      <th>3188</th>\n",
       "      <td>2022-11-30</td>\n",
       "      <td>US</td>\n",
       "      <td>United States of America</td>\n",
       "      <td>AMRO</td>\n",
       "      <td>0</td>\n",
       "      <td>97329491</td>\n",
       "    </tr>\n",
       "  </tbody>\n",
       "</table>\n",
       "<p>1063 rows × 6 columns</p>\n",
       "</div>"
      ],
      "text/plain": [
       "     Date_reported Country_code                   Country WHO_region  \\\n",
       "2126    2020-01-03           US  United States of America       AMRO   \n",
       "2127    2020-01-04           US  United States of America       AMRO   \n",
       "2128    2020-01-05           US  United States of America       AMRO   \n",
       "2129    2020-01-06           US  United States of America       AMRO   \n",
       "2130    2020-01-07           US  United States of America       AMRO   \n",
       "...            ...          ...                       ...        ...   \n",
       "3184    2022-11-26           US  United States of America       AMRO   \n",
       "3185    2022-11-27           US  United States of America       AMRO   \n",
       "3186    2022-11-28           US  United States of America       AMRO   \n",
       "3187    2022-11-29           US  United States of America       AMRO   \n",
       "3188    2022-11-30           US  United States of America       AMRO   \n",
       "\n",
       "      New_cases  Cumulative_cases  \n",
       "2126          0                 0  \n",
       "2127          0                 0  \n",
       "2128          0                 0  \n",
       "2129          0                 0  \n",
       "2130          0                 0  \n",
       "...         ...               ...  \n",
       "3184          0          97329491  \n",
       "3185          0          97329491  \n",
       "3186          0          97329491  \n",
       "3187          0          97329491  \n",
       "3188          0          97329491  \n",
       "\n",
       "[1063 rows x 6 columns]"
      ]
     },
     "execution_count": 48,
     "metadata": {},
     "output_type": "execute_result"
    }
   ],
   "source": [
    "df_usa"
   ]
  },
  {
   "cell_type": "code",
   "execution_count": 49,
   "id": "dd1b85f9",
   "metadata": {},
   "outputs": [],
   "source": [
    "# Split the data into train and test sets\n",
    "train_data = df_usa[:int(len(df_usa) * 0.8)]\n",
    "test_data = df_usa[int(len(df_usa) * 0.8):]\n"
   ]
  },
  {
   "cell_type": "code",
   "execution_count": 50,
   "id": "bab1be3f",
   "metadata": {},
   "outputs": [
    {
     "data": {
      "text/plain": [
       "((850, 6), (213, 6))"
      ]
     },
     "execution_count": 50,
     "metadata": {},
     "output_type": "execute_result"
    }
   ],
   "source": [
    "# Get the shape of train_data and test_data\n",
    "train_data.shape ,test_data.shape"
   ]
  },
  {
   "cell_type": "markdown",
   "id": "dabf8d57",
   "metadata": {},
   "source": [
    "## Model Building"
   ]
  },
  {
   "cell_type": "code",
   "execution_count": 51,
   "id": "3dc5d982",
   "metadata": {},
   "outputs": [
    {
     "data": {
      "text/html": [
       "<div>\n",
       "<style scoped>\n",
       "    .dataframe tbody tr th:only-of-type {\n",
       "        vertical-align: middle;\n",
       "    }\n",
       "\n",
       "    .dataframe tbody tr th {\n",
       "        vertical-align: top;\n",
       "    }\n",
       "\n",
       "    .dataframe thead th {\n",
       "        text-align: right;\n",
       "    }\n",
       "</style>\n",
       "<table border=\"1\" class=\"dataframe\">\n",
       "  <thead>\n",
       "    <tr style=\"text-align: right;\">\n",
       "      <th></th>\n",
       "      <th>ds</th>\n",
       "      <th>Country_code</th>\n",
       "      <th>Country</th>\n",
       "      <th>WHO_region</th>\n",
       "      <th>New_cases</th>\n",
       "      <th>y</th>\n",
       "    </tr>\n",
       "  </thead>\n",
       "  <tbody>\n",
       "    <tr>\n",
       "      <th>2126</th>\n",
       "      <td>2020-01-03</td>\n",
       "      <td>US</td>\n",
       "      <td>United States of America</td>\n",
       "      <td>AMRO</td>\n",
       "      <td>0</td>\n",
       "      <td>0</td>\n",
       "    </tr>\n",
       "    <tr>\n",
       "      <th>2127</th>\n",
       "      <td>2020-01-04</td>\n",
       "      <td>US</td>\n",
       "      <td>United States of America</td>\n",
       "      <td>AMRO</td>\n",
       "      <td>0</td>\n",
       "      <td>0</td>\n",
       "    </tr>\n",
       "    <tr>\n",
       "      <th>2128</th>\n",
       "      <td>2020-01-05</td>\n",
       "      <td>US</td>\n",
       "      <td>United States of America</td>\n",
       "      <td>AMRO</td>\n",
       "      <td>0</td>\n",
       "      <td>0</td>\n",
       "    </tr>\n",
       "    <tr>\n",
       "      <th>2129</th>\n",
       "      <td>2020-01-06</td>\n",
       "      <td>US</td>\n",
       "      <td>United States of America</td>\n",
       "      <td>AMRO</td>\n",
       "      <td>0</td>\n",
       "      <td>0</td>\n",
       "    </tr>\n",
       "    <tr>\n",
       "      <th>2130</th>\n",
       "      <td>2020-01-07</td>\n",
       "      <td>US</td>\n",
       "      <td>United States of America</td>\n",
       "      <td>AMRO</td>\n",
       "      <td>0</td>\n",
       "      <td>0</td>\n",
       "    </tr>\n",
       "    <tr>\n",
       "      <th>...</th>\n",
       "      <td>...</td>\n",
       "      <td>...</td>\n",
       "      <td>...</td>\n",
       "      <td>...</td>\n",
       "      <td>...</td>\n",
       "      <td>...</td>\n",
       "    </tr>\n",
       "    <tr>\n",
       "      <th>2971</th>\n",
       "      <td>2022-04-27</td>\n",
       "      <td>US</td>\n",
       "      <td>United States of America</td>\n",
       "      <td>AMRO</td>\n",
       "      <td>49858</td>\n",
       "      <td>80341913</td>\n",
       "    </tr>\n",
       "    <tr>\n",
       "      <th>2972</th>\n",
       "      <td>2022-04-28</td>\n",
       "      <td>US</td>\n",
       "      <td>United States of America</td>\n",
       "      <td>AMRO</td>\n",
       "      <td>64414</td>\n",
       "      <td>80406327</td>\n",
       "    </tr>\n",
       "    <tr>\n",
       "      <th>2973</th>\n",
       "      <td>2022-04-29</td>\n",
       "      <td>US</td>\n",
       "      <td>United States of America</td>\n",
       "      <td>AMRO</td>\n",
       "      <td>77145</td>\n",
       "      <td>80483472</td>\n",
       "    </tr>\n",
       "    <tr>\n",
       "      <th>2974</th>\n",
       "      <td>2022-04-30</td>\n",
       "      <td>US</td>\n",
       "      <td>United States of America</td>\n",
       "      <td>AMRO</td>\n",
       "      <td>61915</td>\n",
       "      <td>80545387</td>\n",
       "    </tr>\n",
       "    <tr>\n",
       "      <th>2975</th>\n",
       "      <td>2022-05-01</td>\n",
       "      <td>US</td>\n",
       "      <td>United States of America</td>\n",
       "      <td>AMRO</td>\n",
       "      <td>80656</td>\n",
       "      <td>80626043</td>\n",
       "    </tr>\n",
       "  </tbody>\n",
       "</table>\n",
       "<p>850 rows × 6 columns</p>\n",
       "</div>"
      ],
      "text/plain": [
       "             ds Country_code                   Country WHO_region  New_cases  \\\n",
       "2126 2020-01-03           US  United States of America       AMRO          0   \n",
       "2127 2020-01-04           US  United States of America       AMRO          0   \n",
       "2128 2020-01-05           US  United States of America       AMRO          0   \n",
       "2129 2020-01-06           US  United States of America       AMRO          0   \n",
       "2130 2020-01-07           US  United States of America       AMRO          0   \n",
       "...         ...          ...                       ...        ...        ...   \n",
       "2971 2022-04-27           US  United States of America       AMRO      49858   \n",
       "2972 2022-04-28           US  United States of America       AMRO      64414   \n",
       "2973 2022-04-29           US  United States of America       AMRO      77145   \n",
       "2974 2022-04-30           US  United States of America       AMRO      61915   \n",
       "2975 2022-05-01           US  United States of America       AMRO      80656   \n",
       "\n",
       "             y  \n",
       "2126         0  \n",
       "2127         0  \n",
       "2128         0  \n",
       "2129         0  \n",
       "2130         0  \n",
       "...        ...  \n",
       "2971  80341913  \n",
       "2972  80406327  \n",
       "2973  80483472  \n",
       "2974  80545387  \n",
       "2975  80626043  \n",
       "\n",
       "[850 rows x 6 columns]"
      ]
     },
     "execution_count": 51,
     "metadata": {},
     "output_type": "execute_result"
    }
   ],
   "source": [
    "# Rename the columns of the 'train_data' dataframe for use in the Prophet model\n",
    "train_df = train_data.rename(columns={'Date_reported': 'ds', 'Cumulative_cases': 'y'})\n",
    "train_df\n"
   ]
  },
  {
   "cell_type": "code",
   "execution_count": 52,
   "id": "ad03e73a",
   "metadata": {},
   "outputs": [
    {
     "name": "stderr",
     "output_type": "stream",
     "text": [
      "15:07:25 - cmdstanpy - INFO - Chain [1] start processing\n",
      "15:07:26 - cmdstanpy - INFO - Chain [1] done processing\n"
     ]
    },
    {
     "name": "stdout",
     "output_type": "stream",
     "text": [
      "CPU times: user 112 ms, sys: 12.4 ms, total: 124 ms\n",
      "Wall time: 1.27 s\n"
     ]
    },
    {
     "data": {
      "text/plain": [
       "<prophet.forecaster.Prophet at 0x7f45d769cb90>"
      ]
     },
     "execution_count": 52,
     "metadata": {},
     "output_type": "execute_result"
    }
   ],
   "source": [
    "%%time\n",
    "# define the model\n",
    "model = Prophet()\n",
    "# fit the model\n",
    "model.fit(train_df)"
   ]
  },
  {
   "cell_type": "code",
   "execution_count": 53,
   "id": "53b60bf4",
   "metadata": {},
   "outputs": [],
   "source": [
    "# Rename the columns of the 'test_data' dataframe for use in the Prophet model\n",
    "test_df = test_data.rename(columns={'Date_reported': 'ds', 'Cumulative_cases': 'y'})\n"
   ]
  },
  {
   "cell_type": "code",
   "execution_count": 54,
   "id": "69fab395",
   "metadata": {},
   "outputs": [],
   "source": [
    "# Use the trained Prophet model to make predictions for the test_df\n",
    "predictions = model.predict(test_df)"
   ]
  },
  {
   "cell_type": "code",
   "execution_count": 55,
   "id": "3e3e2c9c",
   "metadata": {},
   "outputs": [
    {
     "data": {
      "image/png": "[encoded data removed]",
      "text/plain": [
       "<Figure size 600x600 with 1 Axes>"
      ]
     },
     "metadata": {},
     "output_type": "display_data"
    }
   ],
   "source": [
    "# Create a plot to visualize the actual and predicted values\n",
    "fig, ax = plt.subplots(figsize=(6, 6))\n",
    "ax.plot(test_df['ds'], test_df['y'], label='Actual')\n",
    "ax.plot(predictions['ds'], predictions['yhat'], label='Predicted')\n",
    "ax.set_xlabel(\"Date\")\n",
    "ax.set_ylabel(\"Value\")\n",
    "ax.set(title = \"Actual and predicted cumulative cases in USA\")\n",
    "ax.legend()\n",
    "plt.show()"
   ]
  },
  {
   "cell_type": "code",
   "execution_count": 56,
   "id": "a909497f",
   "metadata": {},
   "outputs": [
    {
     "data": {
      "application/vnd.jupyter.widget-view+json": {
       "model_id": "8a6bc76cceb5471eb6a0569e72a3e963",
       "version_major": 2,
       "version_minor": 0
      },
      "text/plain": [
       "  0%|          | 0/31 [00:00<?, ?it/s]"
      ]
     },
     "metadata": {},
     "output_type": "display_data"
    },
    {
     "name": "stderr",
     "output_type": "stream",
     "text": [
      "15:07:27 - cmdstanpy - INFO - Chain [1] start processing\n",
      "15:07:27 - cmdstanpy - INFO - Chain [1] done processing\n",
      "15:07:28 - cmdstanpy - INFO - Chain [1] start processing\n",
      "15:07:28 - cmdstanpy - INFO - Chain [1] done processing\n",
      "15:07:28 - cmdstanpy - INFO - Chain [1] start processing\n",
      "15:07:29 - cmdstanpy - INFO - Chain [1] done processing\n",
      "15:07:29 - cmdstanpy - INFO - Chain [1] start processing\n",
      "15:07:30 - cmdstanpy - INFO - Chain [1] done processing\n",
      "15:07:30 - cmdstanpy - INFO - Chain [1] start processing\n",
      "15:07:31 - cmdstanpy - INFO - Chain [1] done processing\n",
      "15:07:32 - cmdstanpy - INFO - Chain [1] start processing\n",
      "15:07:32 - cmdstanpy - INFO - Chain [1] done processing\n",
      "15:07:33 - cmdstanpy - INFO - Chain [1] start processing\n",
      "15:07:33 - cmdstanpy - INFO - Chain [1] done processing\n",
      "15:07:34 - cmdstanpy - INFO - Chain [1] start processing\n",
      "15:07:34 - cmdstanpy - INFO - Chain [1] done processing\n",
      "15:07:34 - cmdstanpy - INFO - Chain [1] start processing\n",
      "15:07:35 - cmdstanpy - INFO - Chain [1] done processing\n",
      "15:07:35 - cmdstanpy - INFO - Chain [1] start processing\n",
      "15:07:36 - cmdstanpy - INFO - Chain [1] done processing\n",
      "15:07:37 - cmdstanpy - INFO - Chain [1] start processing\n",
      "15:07:37 - cmdstanpy - INFO - Chain [1] done processing\n",
      "15:07:38 - cmdstanpy - INFO - Chain [1] start processing\n",
      "15:07:39 - cmdstanpy - INFO - Chain [1] done processing\n",
      "15:07:39 - cmdstanpy - INFO - Chain [1] start processing\n",
      "15:07:40 - cmdstanpy - INFO - Chain [1] done processing\n",
      "15:07:40 - cmdstanpy - INFO - Chain [1] start processing\n",
      "15:07:41 - cmdstanpy - INFO - Chain [1] done processing\n",
      "15:07:42 - cmdstanpy - INFO - Chain [1] start processing\n",
      "15:07:43 - cmdstanpy - INFO - Chain [1] done processing\n",
      "15:07:43 - cmdstanpy - INFO - Chain [1] start processing\n",
      "15:07:44 - cmdstanpy - INFO - Chain [1] done processing\n",
      "15:07:44 - cmdstanpy - INFO - Chain [1] start processing\n",
      "15:07:45 - cmdstanpy - INFO - Chain [1] done processing\n",
      "15:07:46 - cmdstanpy - INFO - Chain [1] start processing\n",
      "15:07:47 - cmdstanpy - INFO - Chain [1] done processing\n",
      "15:07:47 - cmdstanpy - INFO - Chain [1] start processing\n",
      "15:07:48 - cmdstanpy - INFO - Chain [1] done processing\n",
      "15:07:49 - cmdstanpy - INFO - Chain [1] start processing\n",
      "15:07:50 - cmdstanpy - INFO - Chain [1] done processing\n",
      "15:07:50 - cmdstanpy - INFO - Chain [1] start processing\n",
      "15:07:51 - cmdstanpy - INFO - Chain [1] done processing\n",
      "15:07:52 - cmdstanpy - INFO - Chain [1] start processing\n",
      "15:07:53 - cmdstanpy - INFO - Chain [1] done processing\n",
      "15:07:53 - cmdstanpy - INFO - Chain [1] start processing\n",
      "15:07:54 - cmdstanpy - INFO - Chain [1] done processing\n",
      "15:07:55 - cmdstanpy - INFO - Chain [1] start processing\n",
      "15:07:56 - cmdstanpy - INFO - Chain [1] done processing\n",
      "15:07:57 - cmdstanpy - INFO - Chain [1] start processing\n",
      "15:07:58 - cmdstanpy - INFO - Chain [1] done processing\n",
      "15:07:58 - cmdstanpy - INFO - Chain [1] start processing\n",
      "15:07:59 - cmdstanpy - INFO - Chain [1] done processing\n",
      "15:07:59 - cmdstanpy - INFO - Chain [1] start processing\n",
      "15:08:01 - cmdstanpy - INFO - Chain [1] done processing\n",
      "15:08:02 - cmdstanpy - INFO - Chain [1] start processing\n",
      "15:08:03 - cmdstanpy - INFO - Chain [1] done processing\n",
      "15:08:03 - cmdstanpy - INFO - Chain [1] start processing\n",
      "15:08:05 - cmdstanpy - INFO - Chain [1] done processing\n",
      "15:08:06 - cmdstanpy - INFO - Chain [1] start processing\n",
      "15:08:07 - cmdstanpy - INFO - Chain [1] done processing\n",
      "15:08:07 - cmdstanpy - INFO - Chain [1] start processing\n",
      "15:08:09 - cmdstanpy - INFO - Chain [1] done processing\n"
     ]
    }
   ],
   "source": [
    "df_cv = cross_validation(model, horizon='30 days')"
   ]
  },
  {
   "cell_type": "code",
   "execution_count": 57,
   "id": "0aae4a5b",
   "metadata": {},
   "outputs": [
    {
     "name": "stdout",
     "output_type": "stream",
     "text": [
      "0.985\n"
     ]
    }
   ],
   "source": [
    "# calculate the R2\n",
    "r2 = round(r2_score(df_cv['y'], df_cv['yhat']),3)\n",
    "print(r2)"
   ]
  },
  {
   "cell_type": "code",
   "execution_count": 58,
   "id": "b463bc88",
   "metadata": {},
   "outputs": [
    {
     "name": "stdout",
     "output_type": "stream",
     "text": [
      "RMSE: 2210296.777\n"
     ]
    }
   ],
   "source": [
    "# Calculate the RMSE\n",
    "rmse = round(np.sqrt(mean_squared_error(df_cv ['y'], df_cv ['yhat'])),3)\n",
    "print(f'RMSE: {rmse}')"
   ]
  },
  {
   "cell_type": "code",
   "execution_count": 59,
   "id": "3b650dbd",
   "metadata": {},
   "outputs": [
    {
     "name": "stdout",
     "output_type": "stream",
     "text": [
      "MAE: 1035660.815\n"
     ]
    }
   ],
   "source": [
    "# Calculate the MAE\n",
    "mae = round(mean_absolute_error(df_cv ['y'], df_cv ['yhat']),3)\n",
    "print(f'MAE: {mae}')"
   ]
  },
  {
   "cell_type": "code",
   "execution_count": 60,
   "id": "3e22d554",
   "metadata": {},
   "outputs": [
    {
     "name": "stdout",
     "output_type": "stream",
     "text": [
      "MAPE: 1.945\n"
     ]
    }
   ],
   "source": [
    "#  Calculate the MAPE\n",
    "def mean_absolute_percentage_error(y_true, y_pred): \n",
    "    y_true, y_pred = np.array(y_true), np.array(y_pred)\n",
    "    return np.mean(np.abs((y_true - y_pred) / y_true)) * 100\n",
    "\n",
    "mape =round(mean_absolute_percentage_error(df_cv ['y'], df_cv ['yhat']),3)\n",
    "print(f'MAPE: {mape}')"
   ]
  },
  {
   "cell_type": "markdown",
   "id": "055cf52b",
   "metadata": {},
   "source": [
    "## Forecast"
   ]
  },
  {
   "cell_type": "code",
   "execution_count": 61,
   "id": "6cfac9f4",
   "metadata": {},
   "outputs": [
    {
     "name": "stdout",
     "output_type": "stream",
     "text": [
      "          ds         trend    yhat_lower    yhat_upper   trend_lower  \\\n",
      "0 2022-11-30  1.006058e+08  9.159476e+07  9.227289e+07  1.006058e+08   \n",
      "1 2022-12-01  1.007258e+08  9.169423e+07  9.239896e+07  1.007258e+08   \n",
      "2 2022-12-02  1.008458e+08  9.178139e+07  9.248022e+07  1.008458e+08   \n",
      "3 2022-12-03  1.009659e+08  9.187065e+07  9.258982e+07  1.009659e+08   \n",
      "4 2022-12-04  1.010859e+08  9.194031e+07  9.267363e+07  1.010859e+08   \n",
      "\n",
      "    trend_upper  additive_terms  additive_terms_lower  additive_terms_upper  \\\n",
      "0  1.006058e+08   -8.661331e+06         -8.661331e+06         -8.661331e+06   \n",
      "1  1.007258e+08   -8.694594e+06         -8.694594e+06         -8.694594e+06   \n",
      "2  1.008458e+08   -8.725780e+06         -8.725780e+06         -8.725780e+06   \n",
      "3  1.009659e+08   -8.751815e+06         -8.751815e+06         -8.751815e+06   \n",
      "4  1.010859e+08   -8.783069e+06         -8.783069e+06         -8.783069e+06   \n",
      "\n",
      "         weekly  weekly_lower  weekly_upper        yearly  yearly_lower  \\\n",
      "0  -9950.922850  -9950.922850  -9950.922850 -8.651380e+06 -8.651380e+06   \n",
      "1  -6711.666574  -6711.666574  -6711.666574 -8.687883e+06 -8.687883e+06   \n",
      "2    491.901874    491.901874    491.901874 -8.726271e+06 -8.726271e+06   \n",
      "3  14538.072029  14538.072029  14538.072029 -8.766353e+06 -8.766353e+06   \n",
      "4  24731.304965  24731.304965  24731.304965 -8.807800e+06 -8.807800e+06   \n",
      "\n",
      "   yearly_upper  multiplicative_terms  multiplicative_terms_lower  \\\n",
      "0 -8.651380e+06                   0.0                         0.0   \n",
      "1 -8.687883e+06                   0.0                         0.0   \n",
      "2 -8.726271e+06                   0.0                         0.0   \n",
      "3 -8.766353e+06                   0.0                         0.0   \n",
      "4 -8.807800e+06                   0.0                         0.0   \n",
      "\n",
      "   multiplicative_terms_upper          yhat  \n",
      "0                         0.0  9.194444e+07  \n",
      "1                         0.0  9.203122e+07  \n",
      "2                         0.0  9.212007e+07  \n",
      "3                         0.0  9.221407e+07  \n",
      "4                         0.0  9.230286e+07  \n"
     ]
    }
   ],
   "source": [
    "#  Calculate the last day of the test data\n",
    "last_day_of_test = test_df['ds'].iloc[-1]\n",
    "\n",
    "# Calculate the dates for the forecast\n",
    "future_dates = pd.date_range(start=last_day_of_test, periods=31, freq='D')\n",
    "\n",
    "# Create a DataFrame for the forecast dates\n",
    "forecast_dates = pd.DataFrame({'ds': future_dates})\n",
    "\n",
    "# Predict the future values\n",
    "forecast = model.predict(forecast_dates)\n",
    "print(forecast.head())\n"
   ]
  },
  {
   "cell_type": "code",
   "execution_count": 62,
   "id": "9cea2d8a",
   "metadata": {},
   "outputs": [
    {
     "data": {
      "image/png": "[encoded data removed]",
      "text/plain": [
       "<Figure size 900x500 with 1 Axes>"
      ]
     },
     "metadata": {},
     "output_type": "display_data"
    }
   ],
   "source": [
    "# Create a plot to visualize the forecast values\n",
    "fig, ax = plt.subplots(figsize=(9, 5))\n",
    "ax.plot(forecast_dates['ds'], forecast['yhat'], label='Forecast')\n",
    "ax.set_xlabel(\"Date\")\n",
    "ax.set_ylabel(\"Forecast Values\")\n",
    "ax.set(title = \"Cumulative forecast values in USA for 30 days\")\n",
    "ax.legend()\n",
    "plt.show()"
   ]
  }
 ],
 "metadata": {
  "kernelspec": {
   "display_name": "Python 3 (ipykernel)",
   "language": "python",
   "name": "python3"
  },
  "language_info": {
   "codemirror_mode": {
    "name": "ipython",
    "version": 3
   },
   "file_extension": ".py",
   "mimetype": "text/x-python",
   "name": "python",
   "nbconvert_exporter": "python",
   "pygments_lexer": "ipython3",
   "version": "3.7.15"
  }
 },
 "nbformat": 4,
 "nbformat_minor": 5
}
